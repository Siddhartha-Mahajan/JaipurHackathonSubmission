{
  "cells": [
    {
      "cell_type": "markdown",
      "metadata": {
        "papermill": {
          "duration": 0.026943,
          "end_time": "2020-12-11T03:31:51.129184",
          "exception": false,
          "start_time": "2020-12-11T03:31:51.102241",
          "status": "completed"
        },
        "tags": [],
        "id": "ITe7woPwhCA0"
      },
      "source": [
        "# **HEART DISEASE ANALYSIS** "
      ]
    },
    {
      "cell_type": "markdown",
      "metadata": {
        "papermill": {
          "duration": 0.023267,
          "end_time": "2020-12-11T03:31:51.177448",
          "exception": false,
          "start_time": "2020-12-11T03:31:51.154181",
          "status": "completed"
        },
        "tags": [],
        "id": "IEb8Omh5hCA5"
      },
      "source": [
        "## **About Heart Disease**\n",
        "\n",
        "> Cardiovascular disease or heart disease describes a range of conditions that affect your heart. Diseases under the heart disease umbrella include blood vessel diseases, such as coronary artery disease. From WHO statistics every year 17.9 million dying from heart disease. The medical study says that human life style is the main reason behind this heart problem. Apart from this there are many key factors which warns that the person may/maynot getting chance of heart disease.\n",
        "\n",
        "\n",
        "\n",
        "> From the dataset if we create suitable machine learning technique which classify the heart disease more accurately, it is very helpful to the health organisation as well as patients. "
      ]
    },
    {
      "cell_type": "markdown",
      "metadata": {
        "papermill": {
          "duration": 0.02368,
          "end_time": "2020-12-11T03:31:51.225094",
          "exception": false,
          "start_time": "2020-12-11T03:31:51.201414",
          "status": "completed"
        },
        "tags": [],
        "id": "x5Im78wwhCA5"
      },
      "source": [
        "## **About the Data set**\n",
        "> The Framingham Heart Study (FHS) is dedicated to identifying common factors or characteristics that contribute to cardiovascular disease (CVD). In 1948, an original cohort of 5,209 men and women between 30 and 62 years old were recruited from Framingham, MA. An Offspring Cohort began in 1971, an Omni Cohort in 1994, a Third Generation Cohort in 2002, a New Offspring Spouse Cohort in 2004 and a Second Generation Omni Cohort in 2003. Core research in the dataset focuses on cardiovascular and cerebrovascular diseases. The data include biological specimens, molecular genetic data, phenotype data, samples, images, participant vascular functioning data, physiological data, demographic data, and ECG data.It is a collaborative project of the National Heart, Lung and Blood Institute and Boston University.\n",
        "\n",
        "\n",
        "#### Attributes\n",
        "\n",
        "#### Demographic\n",
        "* Sex: male or female\n",
        "* Age: Age of the patient\n",
        "* Education: no further information provided\n",
        "\n",
        "#### Behavioral\n",
        "* Current Smoker: whether or not the patient is a current smoker\n",
        "* Cigs Per Day: the number of cigarettes that the person smoked on average in one day\n",
        "\n",
        "#### Information on medical history\n",
        "* BP Meds: whether or not the patient was on blood pressure medication \n",
        "* Prevalent Stroke: whether or not the patient had previously had a stroke\n",
        "* Prevalent Hyp: whether or not the patient was hypertensive \n",
        "* Diabetes: whether or not the patient had diabetes\n",
        "\n",
        "#### Information on current medical condition\n",
        "* Tot Chol: total cholesterol level\n",
        "* Sys BP: systolic blood pressure\n",
        "* Dia BP: diastolic blood pressure\n",
        "* BMI: Body Mass Index\n",
        "* Heart Rate: heart rate - In medical research, variables such as heart rate though in fact discrete, yet are considered continuous because of large number of possible values.\n",
        "* Glucose: glucose level\n",
        "\n",
        "#### Target variable to predict\n",
        "* TenYearCHD: 10 year risk of coronary heart disease (binary: “1:Yes”, “0:No”)"
      ]
    },
    {
      "cell_type": "markdown",
      "metadata": {
        "papermill": {
          "duration": 0.02339,
          "end_time": "2020-12-11T03:31:51.272604",
          "exception": false,
          "start_time": "2020-12-11T03:31:51.249214",
          "status": "completed"
        },
        "tags": [],
        "id": "nRGhot1nhCA6"
      },
      "source": [
        "## Table of Contents\n",
        "1) Import Packages\n",
        "\n",
        "2) EDA\n",
        "\n",
        "3) Preparing ML models\n",
        "\n",
        "4) Models evaluation\n",
        "\n",
        "5) Ensembling\n",
        "\n",
        "6) Conclusion"
      ]
    },
    {
      "cell_type": "markdown",
      "metadata": {
        "papermill": {
          "duration": 0.023238,
          "end_time": "2020-12-11T03:31:51.319392",
          "exception": false,
          "start_time": "2020-12-11T03:31:51.296154",
          "status": "completed"
        },
        "tags": [],
        "id": "zXJ8NdrShCA6"
      },
      "source": [
        "## Packages Required"
      ]
    },
    {
      "cell_type": "code",
      "execution_count": 1,
      "metadata": {
        "execution": {
          "iopub.execute_input": "2020-12-11T03:31:51.383924Z",
          "iopub.status.busy": "2020-12-11T03:31:51.381244Z",
          "iopub.status.idle": "2020-12-11T03:31:55.003384Z",
          "shell.execute_reply": "2020-12-11T03:31:55.002244Z"
        },
        "papermill": {
          "duration": 3.659744,
          "end_time": "2020-12-11T03:31:55.003569",
          "exception": false,
          "start_time": "2020-12-11T03:31:51.343825",
          "status": "completed"
        },
        "tags": [],
        "id": "p8FQU2AwhCA7"
      },
      "outputs": [],
      "source": [
        "#loading dataset\n",
        "import pandas as pd\n",
        "import numpy as np\n",
        "#visualisation\n",
        "import matplotlib.pyplot as plt\n",
        "%matplotlib inline\n",
        "import seaborn as sns\n",
        "#EDA\n",
        "from collections import Counter\n",
        "\n",
        "# data preprocessing\n",
        "from sklearn.preprocessing import StandardScaler\n",
        "# data splitting\n",
        "from sklearn.model_selection import train_test_split\n",
        "# data modeling\n",
        "from sklearn.metrics import confusion_matrix,accuracy_score,roc_curve,classification_report\n",
        "from sklearn.linear_model import LogisticRegression\n",
        "from sklearn.naive_bayes import GaussianNB\n",
        "from xgboost import XGBClassifier\n",
        "from sklearn.ensemble import RandomForestClassifier\n",
        "from sklearn.tree import DecisionTreeClassifier\n",
        "from sklearn.neighbors import KNeighborsClassifier\n",
        "from sklearn.naive_bayes import GaussianNB\n",
        "from sklearn.svm import SVC\n",
        "#ensembling\n",
        "from sklearn.ensemble import StackingClassifier"
      ]
    },
    {
      "cell_type": "code",
      "execution_count": 2,
      "metadata": {
        "_cell_guid": "79c7e3d0-c299-4dcb-8224-4455121ee9b0",
        "_uuid": "d629ff2d2480ee46fbb7e2d37f6b5fab8052498a",
        "execution": {
          "iopub.execute_input": "2020-12-11T03:31:55.074081Z",
          "iopub.status.busy": "2020-12-11T03:31:55.073215Z",
          "iopub.status.idle": "2020-12-11T03:31:55.112201Z",
          "shell.execute_reply": "2020-12-11T03:31:55.112835Z"
        },
        "papermill": {
          "duration": 0.084306,
          "end_time": "2020-12-11T03:31:55.113016",
          "exception": false,
          "start_time": "2020-12-11T03:31:55.028710",
          "status": "completed"
        },
        "tags": [],
        "colab": {
          "base_uri": "https://localhost:8080/",
          "height": 206
        },
        "id": "3XeYP6mFhCA8",
        "outputId": "0510062a-072e-458d-e9e2-617a478a7c85"
      },
      "outputs": [
        {
          "output_type": "execute_result",
          "data": {
            "text/plain": [
              "   male  age  education  currentSmoker  cigsPerDay  BPMeds  prevalentStroke  \\\n",
              "0     1   44          3              0           0       0                0   \n",
              "1     0   63          1              0           0       0                0   \n",
              "2     0   39          3              1          20       0                0   \n",
              "3     0   37          3              1          15       0                0   \n",
              "4     0   40          3              1          15       0                0   \n",
              "\n",
              "   prevalentHyp  diabetes  totChol  sysBP  diaBP    BMI  heartRate  glucose  \\\n",
              "0             0         0      243  146.0   91.0  26.72         80      104   \n",
              "1             1         0      289  158.0   80.0  32.66         75       84   \n",
              "2             0         0      190   85.0   70.0  22.43         88       60   \n",
              "3             0         0      173  101.0   69.0  20.02         63       73   \n",
              "4             0         0      304  121.0   88.0  22.52         60       80   \n",
              "\n",
              "   TenYearCHD  \n",
              "0           0  \n",
              "1           0  \n",
              "2           0  \n",
              "3           0  \n",
              "4           0  "
            ],
            "text/html": [
              "\n",
              "  <div id=\"df-8bdec998-01fc-458b-9fd9-eb9173a8008a\">\n",
              "    <div class=\"colab-df-container\">\n",
              "      <div>\n",
              "<style scoped>\n",
              "    .dataframe tbody tr th:only-of-type {\n",
              "        vertical-align: middle;\n",
              "    }\n",
              "\n",
              "    .dataframe tbody tr th {\n",
              "        vertical-align: top;\n",
              "    }\n",
              "\n",
              "    .dataframe thead th {\n",
              "        text-align: right;\n",
              "    }\n",
              "</style>\n",
              "<table border=\"1\" class=\"dataframe\">\n",
              "  <thead>\n",
              "    <tr style=\"text-align: right;\">\n",
              "      <th></th>\n",
              "      <th>male</th>\n",
              "      <th>age</th>\n",
              "      <th>education</th>\n",
              "      <th>currentSmoker</th>\n",
              "      <th>cigsPerDay</th>\n",
              "      <th>BPMeds</th>\n",
              "      <th>prevalentStroke</th>\n",
              "      <th>prevalentHyp</th>\n",
              "      <th>diabetes</th>\n",
              "      <th>totChol</th>\n",
              "      <th>sysBP</th>\n",
              "      <th>diaBP</th>\n",
              "      <th>BMI</th>\n",
              "      <th>heartRate</th>\n",
              "      <th>glucose</th>\n",
              "      <th>TenYearCHD</th>\n",
              "    </tr>\n",
              "  </thead>\n",
              "  <tbody>\n",
              "    <tr>\n",
              "      <th>0</th>\n",
              "      <td>1</td>\n",
              "      <td>44</td>\n",
              "      <td>3</td>\n",
              "      <td>0</td>\n",
              "      <td>0</td>\n",
              "      <td>0</td>\n",
              "      <td>0</td>\n",
              "      <td>0</td>\n",
              "      <td>0</td>\n",
              "      <td>243</td>\n",
              "      <td>146.0</td>\n",
              "      <td>91.0</td>\n",
              "      <td>26.72</td>\n",
              "      <td>80</td>\n",
              "      <td>104</td>\n",
              "      <td>0</td>\n",
              "    </tr>\n",
              "    <tr>\n",
              "      <th>1</th>\n",
              "      <td>0</td>\n",
              "      <td>63</td>\n",
              "      <td>1</td>\n",
              "      <td>0</td>\n",
              "      <td>0</td>\n",
              "      <td>0</td>\n",
              "      <td>0</td>\n",
              "      <td>1</td>\n",
              "      <td>0</td>\n",
              "      <td>289</td>\n",
              "      <td>158.0</td>\n",
              "      <td>80.0</td>\n",
              "      <td>32.66</td>\n",
              "      <td>75</td>\n",
              "      <td>84</td>\n",
              "      <td>0</td>\n",
              "    </tr>\n",
              "    <tr>\n",
              "      <th>2</th>\n",
              "      <td>0</td>\n",
              "      <td>39</td>\n",
              "      <td>3</td>\n",
              "      <td>1</td>\n",
              "      <td>20</td>\n",
              "      <td>0</td>\n",
              "      <td>0</td>\n",
              "      <td>0</td>\n",
              "      <td>0</td>\n",
              "      <td>190</td>\n",
              "      <td>85.0</td>\n",
              "      <td>70.0</td>\n",
              "      <td>22.43</td>\n",
              "      <td>88</td>\n",
              "      <td>60</td>\n",
              "      <td>0</td>\n",
              "    </tr>\n",
              "    <tr>\n",
              "      <th>3</th>\n",
              "      <td>0</td>\n",
              "      <td>37</td>\n",
              "      <td>3</td>\n",
              "      <td>1</td>\n",
              "      <td>15</td>\n",
              "      <td>0</td>\n",
              "      <td>0</td>\n",
              "      <td>0</td>\n",
              "      <td>0</td>\n",
              "      <td>173</td>\n",
              "      <td>101.0</td>\n",
              "      <td>69.0</td>\n",
              "      <td>20.02</td>\n",
              "      <td>63</td>\n",
              "      <td>73</td>\n",
              "      <td>0</td>\n",
              "    </tr>\n",
              "    <tr>\n",
              "      <th>4</th>\n",
              "      <td>0</td>\n",
              "      <td>40</td>\n",
              "      <td>3</td>\n",
              "      <td>1</td>\n",
              "      <td>15</td>\n",
              "      <td>0</td>\n",
              "      <td>0</td>\n",
              "      <td>0</td>\n",
              "      <td>0</td>\n",
              "      <td>304</td>\n",
              "      <td>121.0</td>\n",
              "      <td>88.0</td>\n",
              "      <td>22.52</td>\n",
              "      <td>60</td>\n",
              "      <td>80</td>\n",
              "      <td>0</td>\n",
              "    </tr>\n",
              "  </tbody>\n",
              "</table>\n",
              "</div>\n",
              "      <button class=\"colab-df-convert\" onclick=\"convertToInteractive('df-8bdec998-01fc-458b-9fd9-eb9173a8008a')\"\n",
              "              title=\"Convert this dataframe to an interactive table.\"\n",
              "              style=\"display:none;\">\n",
              "        \n",
              "  <svg xmlns=\"http://www.w3.org/2000/svg\" height=\"24px\"viewBox=\"0 0 24 24\"\n",
              "       width=\"24px\">\n",
              "    <path d=\"M0 0h24v24H0V0z\" fill=\"none\"/>\n",
              "    <path d=\"M18.56 5.44l.94 2.06.94-2.06 2.06-.94-2.06-.94-.94-2.06-.94 2.06-2.06.94zm-11 1L8.5 8.5l.94-2.06 2.06-.94-2.06-.94L8.5 2.5l-.94 2.06-2.06.94zm10 10l.94 2.06.94-2.06 2.06-.94-2.06-.94-.94-2.06-.94 2.06-2.06.94z\"/><path d=\"M17.41 7.96l-1.37-1.37c-.4-.4-.92-.59-1.43-.59-.52 0-1.04.2-1.43.59L10.3 9.45l-7.72 7.72c-.78.78-.78 2.05 0 2.83L4 21.41c.39.39.9.59 1.41.59.51 0 1.02-.2 1.41-.59l7.78-7.78 2.81-2.81c.8-.78.8-2.07 0-2.86zM5.41 20L4 18.59l7.72-7.72 1.47 1.35L5.41 20z\"/>\n",
              "  </svg>\n",
              "      </button>\n",
              "      \n",
              "  <style>\n",
              "    .colab-df-container {\n",
              "      display:flex;\n",
              "      flex-wrap:wrap;\n",
              "      gap: 12px;\n",
              "    }\n",
              "\n",
              "    .colab-df-convert {\n",
              "      background-color: #E8F0FE;\n",
              "      border: none;\n",
              "      border-radius: 50%;\n",
              "      cursor: pointer;\n",
              "      display: none;\n",
              "      fill: #1967D2;\n",
              "      height: 32px;\n",
              "      padding: 0 0 0 0;\n",
              "      width: 32px;\n",
              "    }\n",
              "\n",
              "    .colab-df-convert:hover {\n",
              "      background-color: #E2EBFA;\n",
              "      box-shadow: 0px 1px 2px rgba(60, 64, 67, 0.3), 0px 1px 3px 1px rgba(60, 64, 67, 0.15);\n",
              "      fill: #174EA6;\n",
              "    }\n",
              "\n",
              "    [theme=dark] .colab-df-convert {\n",
              "      background-color: #3B4455;\n",
              "      fill: #D2E3FC;\n",
              "    }\n",
              "\n",
              "    [theme=dark] .colab-df-convert:hover {\n",
              "      background-color: #434B5C;\n",
              "      box-shadow: 0px 1px 3px 1px rgba(0, 0, 0, 0.15);\n",
              "      filter: drop-shadow(0px 1px 2px rgba(0, 0, 0, 0.3));\n",
              "      fill: #FFFFFF;\n",
              "    }\n",
              "  </style>\n",
              "\n",
              "      <script>\n",
              "        const buttonEl =\n",
              "          document.querySelector('#df-8bdec998-01fc-458b-9fd9-eb9173a8008a button.colab-df-convert');\n",
              "        buttonEl.style.display =\n",
              "          google.colab.kernel.accessAllowed ? 'block' : 'none';\n",
              "\n",
              "        async function convertToInteractive(key) {\n",
              "          const element = document.querySelector('#df-8bdec998-01fc-458b-9fd9-eb9173a8008a');\n",
              "          const dataTable =\n",
              "            await google.colab.kernel.invokeFunction('convertToInteractive',\n",
              "                                                     [key], {});\n",
              "          if (!dataTable) return;\n",
              "\n",
              "          const docLinkHtml = 'Like what you see? Visit the ' +\n",
              "            '<a target=\"_blank\" href=https://colab.research.google.com/notebooks/data_table.ipynb>data table notebook</a>'\n",
              "            + ' to learn more about interactive tables.';\n",
              "          element.innerHTML = '';\n",
              "          dataTable['output_type'] = 'display_data';\n",
              "          await google.colab.output.renderOutput(dataTable, element);\n",
              "          const docLink = document.createElement('div');\n",
              "          docLink.innerHTML = docLinkHtml;\n",
              "          element.appendChild(docLink);\n",
              "        }\n",
              "      </script>\n",
              "    </div>\n",
              "  </div>\n",
              "  "
            ]
          },
          "metadata": {},
          "execution_count": 2
        }
      ],
      "source": [
        "data = pd.read_csv('framingham.csv')\n",
        "data.head()"
      ]
    },
    {
      "cell_type": "code",
      "execution_count": 3,
      "metadata": {
        "execution": {
          "iopub.execute_input": "2020-12-11T03:31:55.187977Z",
          "iopub.status.busy": "2020-12-11T03:31:55.182700Z",
          "iopub.status.idle": "2020-12-11T03:31:55.205942Z",
          "shell.execute_reply": "2020-12-11T03:31:55.205197Z"
        },
        "papermill": {
          "duration": 0.066446,
          "end_time": "2020-12-11T03:31:55.206102",
          "exception": false,
          "start_time": "2020-12-11T03:31:55.139656",
          "status": "completed"
        },
        "tags": [],
        "colab": {
          "base_uri": "https://localhost:8080/"
        },
        "id": "tPfpAMnlhCA9",
        "outputId": "beb6248e-372c-4e35-e133-03b4b7a5491d"
      },
      "outputs": [
        {
          "output_type": "stream",
          "name": "stdout",
          "text": [
            "<class 'pandas.core.frame.DataFrame'>\n",
            "RangeIndex: 3656 entries, 0 to 3655\n",
            "Data columns (total 16 columns):\n",
            " #   Column           Non-Null Count  Dtype  \n",
            "---  ------           --------------  -----  \n",
            " 0   male             3656 non-null   int64  \n",
            " 1   age              3656 non-null   int64  \n",
            " 2   education        3656 non-null   int64  \n",
            " 3   currentSmoker    3656 non-null   int64  \n",
            " 4   cigsPerDay       3656 non-null   int64  \n",
            " 5   BPMeds           3656 non-null   int64  \n",
            " 6   prevalentStroke  3656 non-null   int64  \n",
            " 7   prevalentHyp     3656 non-null   int64  \n",
            " 8   diabetes         3656 non-null   int64  \n",
            " 9   totChol          3656 non-null   int64  \n",
            " 10  sysBP            3656 non-null   float64\n",
            " 11  diaBP            3656 non-null   float64\n",
            " 12  BMI              3656 non-null   float64\n",
            " 13  heartRate        3656 non-null   int64  \n",
            " 14  glucose          3656 non-null   int64  \n",
            " 15  TenYearCHD       3656 non-null   int64  \n",
            "dtypes: float64(3), int64(13)\n",
            "memory usage: 457.1 KB\n"
          ]
        }
      ],
      "source": [
        "data.info()"
      ]
    },
    {
      "cell_type": "markdown",
      "metadata": {
        "papermill": {
          "duration": 0.029017,
          "end_time": "2020-12-11T03:31:55.267778",
          "exception": false,
          "start_time": "2020-12-11T03:31:55.238761",
          "status": "completed"
        },
        "tags": [],
        "id": "sefJlrQJhCA9"
      },
      "source": [
        "### **Missing Value Detection**"
      ]
    },
    {
      "cell_type": "code",
      "execution_count": 4,
      "metadata": {
        "execution": {
          "iopub.execute_input": "2020-12-11T03:31:55.347133Z",
          "iopub.status.busy": "2020-12-11T03:31:55.346172Z",
          "iopub.status.idle": "2020-12-11T03:31:55.351411Z",
          "shell.execute_reply": "2020-12-11T03:31:55.350699Z"
        },
        "papermill": {
          "duration": 0.046825,
          "end_time": "2020-12-11T03:31:55.351539",
          "exception": false,
          "start_time": "2020-12-11T03:31:55.304714",
          "status": "completed"
        },
        "tags": [],
        "colab": {
          "base_uri": "https://localhost:8080/"
        },
        "id": "C-dRd1HAhCA9",
        "outputId": "78bd78f6-984e-4f07-8e98-c206bfba47e1"
      },
      "outputs": [
        {
          "output_type": "execute_result",
          "data": {
            "text/plain": [
              "male               0\n",
              "age                0\n",
              "education          0\n",
              "currentSmoker      0\n",
              "cigsPerDay         0\n",
              "BPMeds             0\n",
              "prevalentStroke    0\n",
              "prevalentHyp       0\n",
              "diabetes           0\n",
              "totChol            0\n",
              "sysBP              0\n",
              "diaBP              0\n",
              "BMI                0\n",
              "heartRate          0\n",
              "glucose            0\n",
              "TenYearCHD         0\n",
              "dtype: int64"
            ]
          },
          "metadata": {},
          "execution_count": 4
        }
      ],
      "source": [
        "data.isnull().sum()"
      ]
    },
    {
      "cell_type": "markdown",
      "metadata": {
        "papermill": {
          "duration": 0.026595,
          "end_time": "2020-12-11T03:31:55.405201",
          "exception": false,
          "start_time": "2020-12-11T03:31:55.378606",
          "status": "completed"
        },
        "tags": [],
        "id": "rwlgoSNkhCA-"
      },
      "source": [
        "### **Descriptive statistics**"
      ]
    },
    {
      "cell_type": "code",
      "execution_count": 5,
      "metadata": {
        "execution": {
          "iopub.execute_input": "2020-12-11T03:31:55.476200Z",
          "iopub.status.busy": "2020-12-11T03:31:55.475299Z",
          "iopub.status.idle": "2020-12-11T03:31:55.536881Z",
          "shell.execute_reply": "2020-12-11T03:31:55.536197Z"
        },
        "papermill": {
          "duration": 0.105649,
          "end_time": "2020-12-11T03:31:55.537024",
          "exception": false,
          "start_time": "2020-12-11T03:31:55.431375",
          "status": "completed"
        },
        "tags": [],
        "colab": {
          "base_uri": "https://localhost:8080/",
          "height": 364
        },
        "id": "FBaJcCv2hCA-",
        "outputId": "5c6c184e-2db0-47a3-b3a1-e3066fe1f355"
      },
      "outputs": [
        {
          "output_type": "execute_result",
          "data": {
            "text/plain": [
              "              male          age    education  currentSmoker   cigsPerDay  \\\n",
              "count  3656.000000  3656.000000  3656.000000    3656.000000  3656.000000   \n",
              "mean      0.443654    49.557440     1.979759       0.489059     9.022155   \n",
              "std       0.496883     8.561133     1.022657       0.499949    11.918869   \n",
              "min       0.000000    32.000000     1.000000       0.000000     0.000000   \n",
              "25%       0.000000    42.000000     1.000000       0.000000     0.000000   \n",
              "50%       0.000000    49.000000     2.000000       0.000000     0.000000   \n",
              "75%       1.000000    56.000000     3.000000       1.000000    20.000000   \n",
              "max       1.000000    70.000000     4.000000       1.000000    70.000000   \n",
              "\n",
              "            BPMeds  prevalentStroke  prevalentHyp     diabetes      totChol  \\\n",
              "count  3656.000000      3656.000000   3656.000000  3656.000000  3656.000000   \n",
              "mean      0.030361         0.005744      0.311543     0.027079   236.873085   \n",
              "std       0.171602         0.075581      0.463187     0.162335    44.096223   \n",
              "min       0.000000         0.000000      0.000000     0.000000   113.000000   \n",
              "25%       0.000000         0.000000      0.000000     0.000000   206.000000   \n",
              "50%       0.000000         0.000000      0.000000     0.000000   234.000000   \n",
              "75%       0.000000         0.000000      1.000000     0.000000   263.250000   \n",
              "max       1.000000         1.000000      1.000000     1.000000   600.000000   \n",
              "\n",
              "             sysBP        diaBP          BMI    heartRate      glucose  \\\n",
              "count  3656.000000  3656.000000  3656.000000  3656.000000  3656.000000   \n",
              "mean    132.368025    82.912062    25.784185    75.730580    81.856127   \n",
              "std      22.092444    11.974825     4.065913    11.982952    23.910128   \n",
              "min      83.500000    48.000000    15.540000    44.000000    40.000000   \n",
              "25%     117.000000    75.000000    23.080000    68.000000    71.000000   \n",
              "50%     128.000000    82.000000    25.380000    75.000000    78.000000   \n",
              "75%     144.000000    90.000000    28.040000    82.000000    87.000000   \n",
              "max     295.000000   142.500000    56.800000   143.000000   394.000000   \n",
              "\n",
              "        TenYearCHD  \n",
              "count  3656.000000  \n",
              "mean      0.152352  \n",
              "std       0.359411  \n",
              "min       0.000000  \n",
              "25%       0.000000  \n",
              "50%       0.000000  \n",
              "75%       0.000000  \n",
              "max       1.000000  "
            ],
            "text/html": [
              "\n",
              "  <div id=\"df-ed86fb97-076e-4e64-b065-5d0b8bab7b42\">\n",
              "    <div class=\"colab-df-container\">\n",
              "      <div>\n",
              "<style scoped>\n",
              "    .dataframe tbody tr th:only-of-type {\n",
              "        vertical-align: middle;\n",
              "    }\n",
              "\n",
              "    .dataframe tbody tr th {\n",
              "        vertical-align: top;\n",
              "    }\n",
              "\n",
              "    .dataframe thead th {\n",
              "        text-align: right;\n",
              "    }\n",
              "</style>\n",
              "<table border=\"1\" class=\"dataframe\">\n",
              "  <thead>\n",
              "    <tr style=\"text-align: right;\">\n",
              "      <th></th>\n",
              "      <th>male</th>\n",
              "      <th>age</th>\n",
              "      <th>education</th>\n",
              "      <th>currentSmoker</th>\n",
              "      <th>cigsPerDay</th>\n",
              "      <th>BPMeds</th>\n",
              "      <th>prevalentStroke</th>\n",
              "      <th>prevalentHyp</th>\n",
              "      <th>diabetes</th>\n",
              "      <th>totChol</th>\n",
              "      <th>sysBP</th>\n",
              "      <th>diaBP</th>\n",
              "      <th>BMI</th>\n",
              "      <th>heartRate</th>\n",
              "      <th>glucose</th>\n",
              "      <th>TenYearCHD</th>\n",
              "    </tr>\n",
              "  </thead>\n",
              "  <tbody>\n",
              "    <tr>\n",
              "      <th>count</th>\n",
              "      <td>3656.000000</td>\n",
              "      <td>3656.000000</td>\n",
              "      <td>3656.000000</td>\n",
              "      <td>3656.000000</td>\n",
              "      <td>3656.000000</td>\n",
              "      <td>3656.000000</td>\n",
              "      <td>3656.000000</td>\n",
              "      <td>3656.000000</td>\n",
              "      <td>3656.000000</td>\n",
              "      <td>3656.000000</td>\n",
              "      <td>3656.000000</td>\n",
              "      <td>3656.000000</td>\n",
              "      <td>3656.000000</td>\n",
              "      <td>3656.000000</td>\n",
              "      <td>3656.000000</td>\n",
              "      <td>3656.000000</td>\n",
              "    </tr>\n",
              "    <tr>\n",
              "      <th>mean</th>\n",
              "      <td>0.443654</td>\n",
              "      <td>49.557440</td>\n",
              "      <td>1.979759</td>\n",
              "      <td>0.489059</td>\n",
              "      <td>9.022155</td>\n",
              "      <td>0.030361</td>\n",
              "      <td>0.005744</td>\n",
              "      <td>0.311543</td>\n",
              "      <td>0.027079</td>\n",
              "      <td>236.873085</td>\n",
              "      <td>132.368025</td>\n",
              "      <td>82.912062</td>\n",
              "      <td>25.784185</td>\n",
              "      <td>75.730580</td>\n",
              "      <td>81.856127</td>\n",
              "      <td>0.152352</td>\n",
              "    </tr>\n",
              "    <tr>\n",
              "      <th>std</th>\n",
              "      <td>0.496883</td>\n",
              "      <td>8.561133</td>\n",
              "      <td>1.022657</td>\n",
              "      <td>0.499949</td>\n",
              "      <td>11.918869</td>\n",
              "      <td>0.171602</td>\n",
              "      <td>0.075581</td>\n",
              "      <td>0.463187</td>\n",
              "      <td>0.162335</td>\n",
              "      <td>44.096223</td>\n",
              "      <td>22.092444</td>\n",
              "      <td>11.974825</td>\n",
              "      <td>4.065913</td>\n",
              "      <td>11.982952</td>\n",
              "      <td>23.910128</td>\n",
              "      <td>0.359411</td>\n",
              "    </tr>\n",
              "    <tr>\n",
              "      <th>min</th>\n",
              "      <td>0.000000</td>\n",
              "      <td>32.000000</td>\n",
              "      <td>1.000000</td>\n",
              "      <td>0.000000</td>\n",
              "      <td>0.000000</td>\n",
              "      <td>0.000000</td>\n",
              "      <td>0.000000</td>\n",
              "      <td>0.000000</td>\n",
              "      <td>0.000000</td>\n",
              "      <td>113.000000</td>\n",
              "      <td>83.500000</td>\n",
              "      <td>48.000000</td>\n",
              "      <td>15.540000</td>\n",
              "      <td>44.000000</td>\n",
              "      <td>40.000000</td>\n",
              "      <td>0.000000</td>\n",
              "    </tr>\n",
              "    <tr>\n",
              "      <th>25%</th>\n",
              "      <td>0.000000</td>\n",
              "      <td>42.000000</td>\n",
              "      <td>1.000000</td>\n",
              "      <td>0.000000</td>\n",
              "      <td>0.000000</td>\n",
              "      <td>0.000000</td>\n",
              "      <td>0.000000</td>\n",
              "      <td>0.000000</td>\n",
              "      <td>0.000000</td>\n",
              "      <td>206.000000</td>\n",
              "      <td>117.000000</td>\n",
              "      <td>75.000000</td>\n",
              "      <td>23.080000</td>\n",
              "      <td>68.000000</td>\n",
              "      <td>71.000000</td>\n",
              "      <td>0.000000</td>\n",
              "    </tr>\n",
              "    <tr>\n",
              "      <th>50%</th>\n",
              "      <td>0.000000</td>\n",
              "      <td>49.000000</td>\n",
              "      <td>2.000000</td>\n",
              "      <td>0.000000</td>\n",
              "      <td>0.000000</td>\n",
              "      <td>0.000000</td>\n",
              "      <td>0.000000</td>\n",
              "      <td>0.000000</td>\n",
              "      <td>0.000000</td>\n",
              "      <td>234.000000</td>\n",
              "      <td>128.000000</td>\n",
              "      <td>82.000000</td>\n",
              "      <td>25.380000</td>\n",
              "      <td>75.000000</td>\n",
              "      <td>78.000000</td>\n",
              "      <td>0.000000</td>\n",
              "    </tr>\n",
              "    <tr>\n",
              "      <th>75%</th>\n",
              "      <td>1.000000</td>\n",
              "      <td>56.000000</td>\n",
              "      <td>3.000000</td>\n",
              "      <td>1.000000</td>\n",
              "      <td>20.000000</td>\n",
              "      <td>0.000000</td>\n",
              "      <td>0.000000</td>\n",
              "      <td>1.000000</td>\n",
              "      <td>0.000000</td>\n",
              "      <td>263.250000</td>\n",
              "      <td>144.000000</td>\n",
              "      <td>90.000000</td>\n",
              "      <td>28.040000</td>\n",
              "      <td>82.000000</td>\n",
              "      <td>87.000000</td>\n",
              "      <td>0.000000</td>\n",
              "    </tr>\n",
              "    <tr>\n",
              "      <th>max</th>\n",
              "      <td>1.000000</td>\n",
              "      <td>70.000000</td>\n",
              "      <td>4.000000</td>\n",
              "      <td>1.000000</td>\n",
              "      <td>70.000000</td>\n",
              "      <td>1.000000</td>\n",
              "      <td>1.000000</td>\n",
              "      <td>1.000000</td>\n",
              "      <td>1.000000</td>\n",
              "      <td>600.000000</td>\n",
              "      <td>295.000000</td>\n",
              "      <td>142.500000</td>\n",
              "      <td>56.800000</td>\n",
              "      <td>143.000000</td>\n",
              "      <td>394.000000</td>\n",
              "      <td>1.000000</td>\n",
              "    </tr>\n",
              "  </tbody>\n",
              "</table>\n",
              "</div>\n",
              "      <button class=\"colab-df-convert\" onclick=\"convertToInteractive('df-ed86fb97-076e-4e64-b065-5d0b8bab7b42')\"\n",
              "              title=\"Convert this dataframe to an interactive table.\"\n",
              "              style=\"display:none;\">\n",
              "        \n",
              "  <svg xmlns=\"http://www.w3.org/2000/svg\" height=\"24px\"viewBox=\"0 0 24 24\"\n",
              "       width=\"24px\">\n",
              "    <path d=\"M0 0h24v24H0V0z\" fill=\"none\"/>\n",
              "    <path d=\"M18.56 5.44l.94 2.06.94-2.06 2.06-.94-2.06-.94-.94-2.06-.94 2.06-2.06.94zm-11 1L8.5 8.5l.94-2.06 2.06-.94-2.06-.94L8.5 2.5l-.94 2.06-2.06.94zm10 10l.94 2.06.94-2.06 2.06-.94-2.06-.94-.94-2.06-.94 2.06-2.06.94z\"/><path d=\"M17.41 7.96l-1.37-1.37c-.4-.4-.92-.59-1.43-.59-.52 0-1.04.2-1.43.59L10.3 9.45l-7.72 7.72c-.78.78-.78 2.05 0 2.83L4 21.41c.39.39.9.59 1.41.59.51 0 1.02-.2 1.41-.59l7.78-7.78 2.81-2.81c.8-.78.8-2.07 0-2.86zM5.41 20L4 18.59l7.72-7.72 1.47 1.35L5.41 20z\"/>\n",
              "  </svg>\n",
              "      </button>\n",
              "      \n",
              "  <style>\n",
              "    .colab-df-container {\n",
              "      display:flex;\n",
              "      flex-wrap:wrap;\n",
              "      gap: 12px;\n",
              "    }\n",
              "\n",
              "    .colab-df-convert {\n",
              "      background-color: #E8F0FE;\n",
              "      border: none;\n",
              "      border-radius: 50%;\n",
              "      cursor: pointer;\n",
              "      display: none;\n",
              "      fill: #1967D2;\n",
              "      height: 32px;\n",
              "      padding: 0 0 0 0;\n",
              "      width: 32px;\n",
              "    }\n",
              "\n",
              "    .colab-df-convert:hover {\n",
              "      background-color: #E2EBFA;\n",
              "      box-shadow: 0px 1px 2px rgba(60, 64, 67, 0.3), 0px 1px 3px 1px rgba(60, 64, 67, 0.15);\n",
              "      fill: #174EA6;\n",
              "    }\n",
              "\n",
              "    [theme=dark] .colab-df-convert {\n",
              "      background-color: #3B4455;\n",
              "      fill: #D2E3FC;\n",
              "    }\n",
              "\n",
              "    [theme=dark] .colab-df-convert:hover {\n",
              "      background-color: #434B5C;\n",
              "      box-shadow: 0px 1px 3px 1px rgba(0, 0, 0, 0.15);\n",
              "      filter: drop-shadow(0px 1px 2px rgba(0, 0, 0, 0.3));\n",
              "      fill: #FFFFFF;\n",
              "    }\n",
              "  </style>\n",
              "\n",
              "      <script>\n",
              "        const buttonEl =\n",
              "          document.querySelector('#df-ed86fb97-076e-4e64-b065-5d0b8bab7b42 button.colab-df-convert');\n",
              "        buttonEl.style.display =\n",
              "          google.colab.kernel.accessAllowed ? 'block' : 'none';\n",
              "\n",
              "        async function convertToInteractive(key) {\n",
              "          const element = document.querySelector('#df-ed86fb97-076e-4e64-b065-5d0b8bab7b42');\n",
              "          const dataTable =\n",
              "            await google.colab.kernel.invokeFunction('convertToInteractive',\n",
              "                                                     [key], {});\n",
              "          if (!dataTable) return;\n",
              "\n",
              "          const docLinkHtml = 'Like what you see? Visit the ' +\n",
              "            '<a target=\"_blank\" href=https://colab.research.google.com/notebooks/data_table.ipynb>data table notebook</a>'\n",
              "            + ' to learn more about interactive tables.';\n",
              "          element.innerHTML = '';\n",
              "          dataTable['output_type'] = 'display_data';\n",
              "          await google.colab.output.renderOutput(dataTable, element);\n",
              "          const docLink = document.createElement('div');\n",
              "          docLink.innerHTML = docLinkHtml;\n",
              "          element.appendChild(docLink);\n",
              "        }\n",
              "      </script>\n",
              "    </div>\n",
              "  </div>\n",
              "  "
            ]
          },
          "metadata": {},
          "execution_count": 5
        }
      ],
      "source": [
        "data.describe()"
      ]
    },
    {
      "cell_type": "markdown",
      "metadata": {
        "papermill": {
          "duration": 0.15478,
          "end_time": "2020-12-11T03:32:18.319931",
          "exception": false,
          "start_time": "2020-12-11T03:32:18.165151",
          "status": "completed"
        },
        "tags": [],
        "id": "eYYSmRe7hCA_"
      },
      "source": [
        "## **Model prepration**"
      ]
    },
    {
      "cell_type": "code",
      "execution_count": 6,
      "metadata": {
        "execution": {
          "iopub.execute_input": "2020-12-11T03:32:18.641874Z",
          "iopub.status.busy": "2020-12-11T03:32:18.641084Z",
          "iopub.status.idle": "2020-12-11T03:32:18.644773Z",
          "shell.execute_reply": "2020-12-11T03:32:18.643985Z"
        },
        "papermill": {
          "duration": 0.175986,
          "end_time": "2020-12-11T03:32:18.644942",
          "exception": false,
          "start_time": "2020-12-11T03:32:18.468956",
          "status": "completed"
        },
        "tags": [],
        "id": "Jt0vBdvWhCA_"
      },
      "outputs": [],
      "source": [
        "y = data[\"TenYearCHD\"]\n",
        "X = data.drop('TenYearCHD',axis=1)\n",
        "X_train, X_test, y_train, y_test = train_test_split(X, y, test_size=0.20, random_state = 0)\n",
        "scaler = StandardScaler()\n",
        "X_train = scaler.fit_transform(X_train)\n",
        "X_test = scaler.transform(X_test)"
      ]
    },
    {
      "cell_type": "markdown",
      "metadata": {
        "papermill": {
          "duration": 0.149344,
          "end_time": "2020-12-11T03:32:18.945832",
          "exception": false,
          "start_time": "2020-12-11T03:32:18.796488",
          "status": "completed"
        },
        "tags": [],
        "id": "-Rk36-DShCA_"
      },
      "source": [
        "**Before applying algorithm we should check whether the data is equally splitted or not, because if data is not splitted equally it will cause for data imbalacing problem**"
      ]
    },
    {
      "cell_type": "code",
      "execution_count": 7,
      "metadata": {
        "execution": {
          "iopub.execute_input": "2020-12-11T03:32:19.257173Z",
          "iopub.status.busy": "2020-12-11T03:32:19.256029Z",
          "iopub.status.idle": "2020-12-11T03:32:19.261921Z",
          "shell.execute_reply": "2020-12-11T03:32:19.262569Z"
        },
        "papermill": {
          "duration": 0.163698,
          "end_time": "2020-12-11T03:32:19.262751",
          "exception": false,
          "start_time": "2020-12-11T03:32:19.099053",
          "status": "completed"
        },
        "tags": [],
        "id": "t_KZddxLhCA_",
        "outputId": "330d154c-68bf-47ed-cd4a-c06c217c4327",
        "colab": {
          "base_uri": "https://localhost:8080/"
        }
      },
      "outputs": [
        {
          "output_type": "stream",
          "name": "stdout",
          "text": [
            "[0 1]\n"
          ]
        },
        {
          "output_type": "execute_result",
          "data": {
            "text/plain": [
              "Counter({0: 2473, 1: 451})"
            ]
          },
          "metadata": {},
          "execution_count": 7
        }
      ],
      "source": [
        "print(y_test.unique())\n",
        "Counter(y_train)"
      ]
    },
    {
      "cell_type": "markdown",
      "metadata": {
        "papermill": {
          "duration": 0.149107,
          "end_time": "2020-12-11T03:32:19.563256",
          "exception": false,
          "start_time": "2020-12-11T03:32:19.414149",
          "status": "completed"
        },
        "tags": [],
        "id": "ZrLh19mehCBA"
      },
      "source": [
        "## **ML models**\n",
        "\n",
        "Here I take different machine learning algorithm and try to find algorithm which predict accurately.\n",
        "\n",
        "1. Logistic Regression\n",
        "2. Naive Bayes\n",
        "3. Random Forest Classifier\n",
        "4. Extreme Gradient Boost\n",
        "5. K-Nearest Neighbour\n",
        "6. Decision Tree\n",
        "7. Support Vector Machine\n"
      ]
    },
    {
      "cell_type": "code",
      "execution_count": 8,
      "metadata": {
        "execution": {
          "iopub.execute_input": "2020-12-11T03:32:19.886758Z",
          "iopub.status.busy": "2020-12-11T03:32:19.884888Z",
          "iopub.status.idle": "2020-12-11T03:32:19.901527Z",
          "shell.execute_reply": "2020-12-11T03:32:19.902246Z"
        },
        "papermill": {
          "duration": 0.188422,
          "end_time": "2020-12-11T03:32:19.902449",
          "exception": false,
          "start_time": "2020-12-11T03:32:19.714027",
          "status": "completed"
        },
        "tags": [],
        "id": "ZiOWOhUEhCBA",
        "outputId": "915d8e2c-c964-40b2-a628-e6f45b9c2062",
        "colab": {
          "base_uri": "https://localhost:8080/"
        }
      },
      "outputs": [
        {
          "output_type": "stream",
          "name": "stdout",
          "text": [
            "confussion matrix\n",
            "[[622   4]\n",
            " [ 98   8]]\n",
            "\n",
            "\n",
            "Accuracy of Logistic Regression: 86.0655737704918 \n",
            "\n",
            "              precision    recall  f1-score   support\n",
            "\n",
            "           0       0.86      0.99      0.92       626\n",
            "           1       0.67      0.08      0.14       106\n",
            "\n",
            "    accuracy                           0.86       732\n",
            "   macro avg       0.77      0.53      0.53       732\n",
            "weighted avg       0.84      0.86      0.81       732\n",
            "\n"
          ]
        }
      ],
      "source": [
        "m1 = 'Logistic Regression'\n",
        "lr = LogisticRegression()\n",
        "model = lr.fit(X_train, y_train)\n",
        "lr_predict = lr.predict(X_test)\n",
        "lr_conf_matrix = confusion_matrix(y_test, lr_predict)\n",
        "lr_acc_score = accuracy_score(y_test, lr_predict)\n",
        "print(\"confussion matrix\")\n",
        "print(lr_conf_matrix)\n",
        "print(\"\\n\")\n",
        "print(\"Accuracy of Logistic Regression:\",lr_acc_score*100,'\\n')\n",
        "print(classification_report(y_test,lr_predict))"
      ]
    },
    {
      "cell_type": "code",
      "execution_count": 9,
      "metadata": {
        "execution": {
          "iopub.execute_input": "2020-12-11T03:32:20.215287Z",
          "iopub.status.busy": "2020-12-11T03:32:20.214390Z",
          "iopub.status.idle": "2020-12-11T03:32:20.232660Z",
          "shell.execute_reply": "2020-12-11T03:32:20.231564Z"
        },
        "papermill": {
          "duration": 0.178774,
          "end_time": "2020-12-11T03:32:20.232830",
          "exception": false,
          "start_time": "2020-12-11T03:32:20.054056",
          "status": "completed"
        },
        "tags": [],
        "id": "IWOcH7NAhCBA",
        "outputId": "0bfdc0f2-a1bb-4205-fed4-eae53065ee64",
        "colab": {
          "base_uri": "https://localhost:8080/"
        }
      },
      "outputs": [
        {
          "output_type": "stream",
          "name": "stdout",
          "text": [
            "confussion matrix\n",
            "[[582  44]\n",
            " [ 86  20]]\n",
            "\n",
            "\n",
            "Accuracy of Naive Bayes model: 82.24043715846994 \n",
            "\n",
            "              precision    recall  f1-score   support\n",
            "\n",
            "           0       0.87      0.93      0.90       626\n",
            "           1       0.31      0.19      0.24       106\n",
            "\n",
            "    accuracy                           0.82       732\n",
            "   macro avg       0.59      0.56      0.57       732\n",
            "weighted avg       0.79      0.82      0.80       732\n",
            "\n"
          ]
        }
      ],
      "source": [
        "\n",
        "m2 = 'Naive Bayes'\n",
        "nb = GaussianNB()\n",
        "nb.fit(X_train,y_train)\n",
        "nbpred = nb.predict(X_test)\n",
        "nb_conf_matrix = confusion_matrix(y_test, nbpred)\n",
        "nb_acc_score = accuracy_score(y_test, nbpred)\n",
        "print(\"confussion matrix\")\n",
        "print(nb_conf_matrix)\n",
        "print(\"\\n\")\n",
        "print(\"Accuracy of Naive Bayes model:\",nb_acc_score*100,'\\n')\n",
        "print(classification_report(y_test,nbpred))"
      ]
    },
    {
      "cell_type": "code",
      "execution_count": 10,
      "metadata": {
        "execution": {
          "iopub.execute_input": "2020-12-11T03:32:20.554045Z",
          "iopub.status.busy": "2020-12-11T03:32:20.543678Z",
          "iopub.status.idle": "2020-12-11T03:32:20.612957Z",
          "shell.execute_reply": "2020-12-11T03:32:20.613663Z"
        },
        "papermill": {
          "duration": 0.229014,
          "end_time": "2020-12-11T03:32:20.613853",
          "exception": false,
          "start_time": "2020-12-11T03:32:20.384839",
          "status": "completed"
        },
        "tags": [],
        "id": "bONBaymghCBM",
        "outputId": "1d0f78db-1004-4294-aa03-af520b0e230e",
        "colab": {
          "base_uri": "https://localhost:8080/"
        }
      },
      "outputs": [
        {
          "output_type": "stream",
          "name": "stdout",
          "text": [
            "confussion matrix\n",
            "[[623   3]\n",
            " [105   1]]\n",
            "\n",
            "\n",
            "Accuracy of Random Forest: 85.24590163934425 \n",
            "\n",
            "              precision    recall  f1-score   support\n",
            "\n",
            "           0       0.86      1.00      0.92       626\n",
            "           1       0.25      0.01      0.02       106\n",
            "\n",
            "    accuracy                           0.85       732\n",
            "   macro avg       0.55      0.50      0.47       732\n",
            "weighted avg       0.77      0.85      0.79       732\n",
            "\n"
          ]
        }
      ],
      "source": [
        "m3 = 'Random Forest Classfier'\n",
        "rf = RandomForestClassifier(n_estimators=20, random_state=2,max_depth=5)\n",
        "rf.fit(X_train,y_train)\n",
        "rf_predicted = rf.predict(X_test)\n",
        "rf_conf_matrix = confusion_matrix(y_test, rf_predicted)\n",
        "rf_acc_score = accuracy_score(y_test, rf_predicted)\n",
        "print(\"confussion matrix\")\n",
        "print(rf_conf_matrix)\n",
        "print(\"\\n\")\n",
        "print(\"Accuracy of Random Forest:\",rf_acc_score*100,'\\n')\n",
        "print(classification_report(y_test,rf_predicted))"
      ]
    },
    {
      "cell_type": "code",
      "execution_count": 11,
      "metadata": {
        "execution": {
          "iopub.execute_input": "2020-12-11T03:32:20.929923Z",
          "iopub.status.busy": "2020-12-11T03:32:20.928909Z",
          "iopub.status.idle": "2020-12-11T03:32:20.987200Z",
          "shell.execute_reply": "2020-12-11T03:32:20.988106Z"
        },
        "papermill": {
          "duration": 0.222079,
          "end_time": "2020-12-11T03:32:20.988352",
          "exception": false,
          "start_time": "2020-12-11T03:32:20.766273",
          "status": "completed"
        },
        "tags": [],
        "id": "isP8TZ3xhCBN",
        "outputId": "8590293a-ae33-43f3-a21d-1c8145588b10",
        "colab": {
          "base_uri": "https://localhost:8080/"
        }
      },
      "outputs": [
        {
          "output_type": "stream",
          "name": "stdout",
          "text": [
            "confussion matrix\n",
            "[[626   0]\n",
            " [106   0]]\n",
            "\n",
            "\n",
            "Accuracy of Extreme Gradient Boost: 85.51912568306011 \n",
            "\n",
            "              precision    recall  f1-score   support\n",
            "\n",
            "           0       0.86      1.00      0.92       626\n",
            "           1       0.00      0.00      0.00       106\n",
            "\n",
            "    accuracy                           0.86       732\n",
            "   macro avg       0.43      0.50      0.46       732\n",
            "weighted avg       0.73      0.86      0.79       732\n",
            "\n"
          ]
        },
        {
          "output_type": "stream",
          "name": "stderr",
          "text": [
            "/usr/local/lib/python3.9/dist-packages/sklearn/metrics/_classification.py:1344: UndefinedMetricWarning: Precision and F-score are ill-defined and being set to 0.0 in labels with no predicted samples. Use `zero_division` parameter to control this behavior.\n",
            "  _warn_prf(average, modifier, msg_start, len(result))\n",
            "/usr/local/lib/python3.9/dist-packages/sklearn/metrics/_classification.py:1344: UndefinedMetricWarning: Precision and F-score are ill-defined and being set to 0.0 in labels with no predicted samples. Use `zero_division` parameter to control this behavior.\n",
            "  _warn_prf(average, modifier, msg_start, len(result))\n",
            "/usr/local/lib/python3.9/dist-packages/sklearn/metrics/_classification.py:1344: UndefinedMetricWarning: Precision and F-score are ill-defined and being set to 0.0 in labels with no predicted samples. Use `zero_division` parameter to control this behavior.\n",
            "  _warn_prf(average, modifier, msg_start, len(result))\n"
          ]
        }
      ],
      "source": [
        "m4 = 'Extreme Gradient Boost'\n",
        "xgb = XGBClassifier(learning_rate=0.01, n_estimators=25, max_depth=15,gamma=0.6, subsample=0.52,colsample_bytree=0.6,seed=27, \n",
        "                    reg_lambda=2, booster='dart', colsample_bylevel=0.6, colsample_bynode=0.5)\n",
        "xgb.fit(X_train, y_train)\n",
        "xgb_predicted = xgb.predict(X_test)\n",
        "xgb_conf_matrix = confusion_matrix(y_test, xgb_predicted)\n",
        "xgb_acc_score = accuracy_score(y_test, xgb_predicted)\n",
        "print(\"confussion matrix\")\n",
        "print(xgb_conf_matrix)\n",
        "print(\"\\n\")\n",
        "print(\"Accuracy of Extreme Gradient Boost:\",xgb_acc_score*100,'\\n')\n",
        "print(classification_report(y_test,xgb_predicted))"
      ]
    },
    {
      "cell_type": "code",
      "execution_count": 12,
      "metadata": {
        "execution": {
          "iopub.execute_input": "2020-12-11T03:32:21.358733Z",
          "iopub.status.busy": "2020-12-11T03:32:21.357902Z",
          "iopub.status.idle": "2020-12-11T03:32:21.376638Z",
          "shell.execute_reply": "2020-12-11T03:32:21.375769Z"
        },
        "papermill": {
          "duration": 0.188796,
          "end_time": "2020-12-11T03:32:21.376787",
          "exception": false,
          "start_time": "2020-12-11T03:32:21.187991",
          "status": "completed"
        },
        "tags": [],
        "id": "nyvaFHauhCBO",
        "outputId": "af02f29e-1cf4-4ea4-ea3f-725f15b69043",
        "colab": {
          "base_uri": "https://localhost:8080/"
        }
      },
      "outputs": [
        {
          "output_type": "stream",
          "name": "stdout",
          "text": [
            "confussion matrix\n",
            "[[622   4]\n",
            " [103   3]]\n",
            "\n",
            "\n",
            "Accuracy of K-NeighborsClassifier: 85.38251366120218 \n",
            "\n",
            "              precision    recall  f1-score   support\n",
            "\n",
            "           0       0.86      0.99      0.92       626\n",
            "           1       0.43      0.03      0.05       106\n",
            "\n",
            "    accuracy                           0.85       732\n",
            "   macro avg       0.64      0.51      0.49       732\n",
            "weighted avg       0.80      0.85      0.80       732\n",
            "\n"
          ]
        }
      ],
      "source": [
        "m5 = 'K-NeighborsClassifier'\n",
        "knn = KNeighborsClassifier(n_neighbors=10)\n",
        "knn.fit(X_train, y_train)\n",
        "knn_predicted = knn.predict(X_test)\n",
        "knn_conf_matrix = confusion_matrix(y_test, knn_predicted)\n",
        "knn_acc_score = accuracy_score(y_test, knn_predicted)\n",
        "print(\"confussion matrix\")\n",
        "print(knn_conf_matrix)\n",
        "print(\"\\n\")\n",
        "print(\"Accuracy of K-NeighborsClassifier:\",knn_acc_score*100,'\\n')\n",
        "print(classification_report(y_test,knn_predicted))"
      ]
    },
    {
      "cell_type": "code",
      "execution_count": 13,
      "metadata": {
        "execution": {
          "iopub.execute_input": "2020-12-11T03:32:21.697828Z",
          "iopub.status.busy": "2020-12-11T03:32:21.696975Z",
          "iopub.status.idle": "2020-12-11T03:32:21.714684Z",
          "shell.execute_reply": "2020-12-11T03:32:21.715348Z"
        },
        "papermill": {
          "duration": 0.183294,
          "end_time": "2020-12-11T03:32:21.715510",
          "exception": false,
          "start_time": "2020-12-11T03:32:21.532216",
          "status": "completed"
        },
        "tags": [],
        "id": "kaUYnmxghCBP",
        "outputId": "512bcba2-2029-40e4-de96-f0a59d29de11",
        "colab": {
          "base_uri": "https://localhost:8080/"
        }
      },
      "outputs": [
        {
          "output_type": "stream",
          "name": "stdout",
          "text": [
            "confussion matrix\n",
            "[[614  12]\n",
            " [ 97   9]]\n",
            "\n",
            "\n",
            "Accuracy of DecisionTreeClassifier: 85.10928961748634 \n",
            "\n",
            "              precision    recall  f1-score   support\n",
            "\n",
            "           0       0.86      0.98      0.92       626\n",
            "           1       0.43      0.08      0.14       106\n",
            "\n",
            "    accuracy                           0.85       732\n",
            "   macro avg       0.65      0.53      0.53       732\n",
            "weighted avg       0.80      0.85      0.81       732\n",
            "\n"
          ]
        }
      ],
      "source": [
        "m6 = 'DecisionTreeClassifier'\n",
        "dt = DecisionTreeClassifier(criterion = 'entropy',random_state=0,max_depth = 6)\n",
        "dt.fit(X_train, y_train)\n",
        "dt_predicted = dt.predict(X_test)\n",
        "dt_conf_matrix = confusion_matrix(y_test, dt_predicted)\n",
        "dt_acc_score = accuracy_score(y_test, dt_predicted)\n",
        "print(\"confussion matrix\")\n",
        "print(dt_conf_matrix)\n",
        "print(\"\\n\")\n",
        "print(\"Accuracy of DecisionTreeClassifier:\",dt_acc_score*100,'\\n')\n",
        "print(classification_report(y_test,dt_predicted))"
      ]
    },
    {
      "cell_type": "code",
      "execution_count": 14,
      "metadata": {
        "execution": {
          "iopub.execute_input": "2020-12-11T03:32:22.042344Z",
          "iopub.status.busy": "2020-12-11T03:32:22.041504Z",
          "iopub.status.idle": "2020-12-11T03:32:22.061353Z",
          "shell.execute_reply": "2020-12-11T03:32:22.060636Z"
        },
        "papermill": {
          "duration": 0.189213,
          "end_time": "2020-12-11T03:32:22.061515",
          "exception": false,
          "start_time": "2020-12-11T03:32:21.872302",
          "status": "completed"
        },
        "tags": [],
        "id": "YEEzjxFvhCBP",
        "outputId": "67f604d8-49a1-44f4-cbf6-e5f18afccee0",
        "colab": {
          "base_uri": "https://localhost:8080/"
        }
      },
      "outputs": [
        {
          "output_type": "stream",
          "name": "stdout",
          "text": [
            "confussion matrix\n",
            "[[618   8]\n",
            " [102   4]]\n",
            "\n",
            "\n",
            "Accuracy of Support Vector Classifier: 84.97267759562843 \n",
            "\n",
            "              precision    recall  f1-score   support\n",
            "\n",
            "           0       0.86      0.99      0.92       626\n",
            "           1       0.33      0.04      0.07       106\n",
            "\n",
            "    accuracy                           0.85       732\n",
            "   macro avg       0.60      0.51      0.49       732\n",
            "weighted avg       0.78      0.85      0.80       732\n",
            "\n"
          ]
        }
      ],
      "source": [
        "m7 = 'Support Vector Classifier'\n",
        "svc =  SVC(kernel='rbf', C=2)\n",
        "svc.fit(X_train, y_train)\n",
        "svc_predicted = svc.predict(X_test)\n",
        "svc_conf_matrix = confusion_matrix(y_test, svc_predicted)\n",
        "svc_acc_score = accuracy_score(y_test, svc_predicted)\n",
        "print(\"confussion matrix\")\n",
        "print(svc_conf_matrix)\n",
        "print(\"\\n\")\n",
        "print(\"Accuracy of Support Vector Classifier:\",svc_acc_score*100,'\\n')\n",
        "print(classification_report(y_test,svc_predicted))"
      ]
    },
    {
      "cell_type": "code",
      "execution_count": 15,
      "metadata": {
        "execution": {
          "iopub.execute_input": "2020-12-11T03:32:23.114510Z",
          "iopub.status.busy": "2020-12-11T03:32:23.111204Z",
          "iopub.status.idle": "2020-12-11T03:32:23.509234Z",
          "shell.execute_reply": "2020-12-11T03:32:23.508593Z"
        },
        "papermill": {
          "duration": 0.581622,
          "end_time": "2020-12-11T03:32:23.509357",
          "exception": false,
          "start_time": "2020-12-11T03:32:22.927735",
          "status": "completed"
        },
        "tags": [],
        "id": "QhFtiUw0hCBP",
        "outputId": "52f57d35-8416-4ae7-d8d6-dc3e4106b59c",
        "colab": {
          "base_uri": "https://localhost:8080/",
          "height": 350
        }
      },
      "outputs": [
        {
          "output_type": "display_data",
          "data": {
            "text/plain": [
              "<Figure size 720x360 with 1 Axes>"
            ],
            "image/png": "[encoded data removed]"
          },
          "metadata": {}
        }
      ],
      "source": [
        "lr_false_positive_rate,lr_true_positive_rate,lr_threshold = roc_curve(y_test,lr_predict)\n",
        "nb_false_positive_rate,nb_true_positive_rate,nb_threshold = roc_curve(y_test,nbpred)\n",
        "rf_false_positive_rate,rf_true_positive_rate,rf_threshold = roc_curve(y_test,rf_predicted)                                                             \n",
        "xgb_false_positive_rate,xgb_true_positive_rate,xgb_threshold = roc_curve(y_test,xgb_predicted)\n",
        "knn_false_positive_rate,knn_true_positive_rate,knn_threshold = roc_curve(y_test,knn_predicted)\n",
        "dt_false_positive_rate,dt_true_positive_rate,dt_threshold = roc_curve(y_test,dt_predicted)\n",
        "svc_false_positive_rate,svc_true_positive_rate,svc_threshold = roc_curve(y_test,svc_predicted)\n",
        "\n",
        "\n",
        "sns.set_style('whitegrid')\n",
        "plt.figure(figsize=(10,5))\n",
        "plt.title('Reciver Operating Characterstic Curve')\n",
        "plt.plot(lr_false_positive_rate,lr_true_positive_rate,label='Logistic Regression')\n",
        "plt.plot(nb_false_positive_rate,nb_true_positive_rate,label='Naive Bayes')\n",
        "plt.plot(rf_false_positive_rate,rf_true_positive_rate,label='Random Forest')\n",
        "plt.plot(xgb_false_positive_rate,xgb_true_positive_rate,label='Extreme Gradient Boost')\n",
        "plt.plot(knn_false_positive_rate,knn_true_positive_rate,label='K-Nearest Neighbor')\n",
        "plt.plot(dt_false_positive_rate,dt_true_positive_rate,label='Desion Tree')\n",
        "plt.plot(svc_false_positive_rate,svc_true_positive_rate,label='Support Vector Classifier')\n",
        "plt.plot([0,1],ls='--')\n",
        "plt.plot([0,0],[1,0],c='.5')\n",
        "plt.plot([1,1],c='.5')\n",
        "plt.ylabel('True positive rate')\n",
        "plt.xlabel('False positive rate')\n",
        "plt.legend()\n",
        "plt.show()"
      ]
    },
    {
      "cell_type": "markdown",
      "metadata": {
        "papermill": {
          "duration": 0.159511,
          "end_time": "2020-12-11T03:32:23.833331",
          "exception": false,
          "start_time": "2020-12-11T03:32:23.673820",
          "status": "completed"
        },
        "tags": [],
        "id": "FM5lv4OjhCBQ"
      },
      "source": [
        "# **Model Evaluation**"
      ]
    },
    {
      "cell_type": "code",
      "execution_count": 16,
      "metadata": {
        "execution": {
          "iopub.execute_input": "2020-12-11T03:32:24.165913Z",
          "iopub.status.busy": "2020-12-11T03:32:24.164684Z",
          "iopub.status.idle": "2020-12-11T03:32:24.168576Z",
          "shell.execute_reply": "2020-12-11T03:32:24.169191Z"
        },
        "papermill": {
          "duration": 0.18048,
          "end_time": "2020-12-11T03:32:24.169348",
          "exception": false,
          "start_time": "2020-12-11T03:32:23.988868",
          "status": "completed"
        },
        "tags": [],
        "id": "aJkEHqeDhCBQ",
        "outputId": "2b0973a3-cafd-4aa7-8d91-537fbd947a9d",
        "colab": {
          "base_uri": "https://localhost:8080/",
          "height": 0
        }
      },
      "outputs": [
        {
          "output_type": "execute_result",
          "data": {
            "text/plain": [
              "                    Model   Accuracy\n",
              "0     Logistic Regression  86.065574\n",
              "1             Naive Bayes  82.240437\n",
              "2           Random Forest  85.245902\n",
              "3  Extreme Gradient Boost  85.519126\n",
              "4     K-Nearest Neighbour  85.382514\n",
              "5           Decision Tree  85.109290\n",
              "6  Support Vector Machine  84.972678"
            ],
            "text/html": [
              "\n",
              "  <div id=\"df-2ac9c208-922d-4e02-8665-1fb33e63eedb\">\n",
              "    <div class=\"colab-df-container\">\n",
              "      <div>\n",
              "<style scoped>\n",
              "    .dataframe tbody tr th:only-of-type {\n",
              "        vertical-align: middle;\n",
              "    }\n",
              "\n",
              "    .dataframe tbody tr th {\n",
              "        vertical-align: top;\n",
              "    }\n",
              "\n",
              "    .dataframe thead th {\n",
              "        text-align: right;\n",
              "    }\n",
              "</style>\n",
              "<table border=\"1\" class=\"dataframe\">\n",
              "  <thead>\n",
              "    <tr style=\"text-align: right;\">\n",
              "      <th></th>\n",
              "      <th>Model</th>\n",
              "      <th>Accuracy</th>\n",
              "    </tr>\n",
              "  </thead>\n",
              "  <tbody>\n",
              "    <tr>\n",
              "      <th>0</th>\n",
              "      <td>Logistic Regression</td>\n",
              "      <td>86.065574</td>\n",
              "    </tr>\n",
              "    <tr>\n",
              "      <th>1</th>\n",
              "      <td>Naive Bayes</td>\n",
              "      <td>82.240437</td>\n",
              "    </tr>\n",
              "    <tr>\n",
              "      <th>2</th>\n",
              "      <td>Random Forest</td>\n",
              "      <td>85.245902</td>\n",
              "    </tr>\n",
              "    <tr>\n",
              "      <th>3</th>\n",
              "      <td>Extreme Gradient Boost</td>\n",
              "      <td>85.519126</td>\n",
              "    </tr>\n",
              "    <tr>\n",
              "      <th>4</th>\n",
              "      <td>K-Nearest Neighbour</td>\n",
              "      <td>85.382514</td>\n",
              "    </tr>\n",
              "    <tr>\n",
              "      <th>5</th>\n",
              "      <td>Decision Tree</td>\n",
              "      <td>85.109290</td>\n",
              "    </tr>\n",
              "    <tr>\n",
              "      <th>6</th>\n",
              "      <td>Support Vector Machine</td>\n",
              "      <td>84.972678</td>\n",
              "    </tr>\n",
              "  </tbody>\n",
              "</table>\n",
              "</div>\n",
              "      <button class=\"colab-df-convert\" onclick=\"convertToInteractive('df-2ac9c208-922d-4e02-8665-1fb33e63eedb')\"\n",
              "              title=\"Convert this dataframe to an interactive table.\"\n",
              "              style=\"display:none;\">\n",
              "        \n",
              "  <svg xmlns=\"http://www.w3.org/2000/svg\" height=\"24px\"viewBox=\"0 0 24 24\"\n",
              "       width=\"24px\">\n",
              "    <path d=\"M0 0h24v24H0V0z\" fill=\"none\"/>\n",
              "    <path d=\"M18.56 5.44l.94 2.06.94-2.06 2.06-.94-2.06-.94-.94-2.06-.94 2.06-2.06.94zm-11 1L8.5 8.5l.94-2.06 2.06-.94-2.06-.94L8.5 2.5l-.94 2.06-2.06.94zm10 10l.94 2.06.94-2.06 2.06-.94-2.06-.94-.94-2.06-.94 2.06-2.06.94z\"/><path d=\"M17.41 7.96l-1.37-1.37c-.4-.4-.92-.59-1.43-.59-.52 0-1.04.2-1.43.59L10.3 9.45l-7.72 7.72c-.78.78-.78 2.05 0 2.83L4 21.41c.39.39.9.59 1.41.59.51 0 1.02-.2 1.41-.59l7.78-7.78 2.81-2.81c.8-.78.8-2.07 0-2.86zM5.41 20L4 18.59l7.72-7.72 1.47 1.35L5.41 20z\"/>\n",
              "  </svg>\n",
              "      </button>\n",
              "      \n",
              "  <style>\n",
              "    .colab-df-container {\n",
              "      display:flex;\n",
              "      flex-wrap:wrap;\n",
              "      gap: 12px;\n",
              "    }\n",
              "\n",
              "    .colab-df-convert {\n",
              "      background-color: #E8F0FE;\n",
              "      border: none;\n",
              "      border-radius: 50%;\n",
              "      cursor: pointer;\n",
              "      display: none;\n",
              "      fill: #1967D2;\n",
              "      height: 32px;\n",
              "      padding: 0 0 0 0;\n",
              "      width: 32px;\n",
              "    }\n",
              "\n",
              "    .colab-df-convert:hover {\n",
              "      background-color: #E2EBFA;\n",
              "      box-shadow: 0px 1px 2px rgba(60, 64, 67, 0.3), 0px 1px 3px 1px rgba(60, 64, 67, 0.15);\n",
              "      fill: #174EA6;\n",
              "    }\n",
              "\n",
              "    [theme=dark] .colab-df-convert {\n",
              "      background-color: #3B4455;\n",
              "      fill: #D2E3FC;\n",
              "    }\n",
              "\n",
              "    [theme=dark] .colab-df-convert:hover {\n",
              "      background-color: #434B5C;\n",
              "      box-shadow: 0px 1px 3px 1px rgba(0, 0, 0, 0.15);\n",
              "      filter: drop-shadow(0px 1px 2px rgba(0, 0, 0, 0.3));\n",
              "      fill: #FFFFFF;\n",
              "    }\n",
              "  </style>\n",
              "\n",
              "      <script>\n",
              "        const buttonEl =\n",
              "          document.querySelector('#df-2ac9c208-922d-4e02-8665-1fb33e63eedb button.colab-df-convert');\n",
              "        buttonEl.style.display =\n",
              "          google.colab.kernel.accessAllowed ? 'block' : 'none';\n",
              "\n",
              "        async function convertToInteractive(key) {\n",
              "          const element = document.querySelector('#df-2ac9c208-922d-4e02-8665-1fb33e63eedb');\n",
              "          const dataTable =\n",
              "            await google.colab.kernel.invokeFunction('convertToInteractive',\n",
              "                                                     [key], {});\n",
              "          if (!dataTable) return;\n",
              "\n",
              "          const docLinkHtml = 'Like what you see? Visit the ' +\n",
              "            '<a target=\"_blank\" href=https://colab.research.google.com/notebooks/data_table.ipynb>data table notebook</a>'\n",
              "            + ' to learn more about interactive tables.';\n",
              "          element.innerHTML = '';\n",
              "          dataTable['output_type'] = 'display_data';\n",
              "          await google.colab.output.renderOutput(dataTable, element);\n",
              "          const docLink = document.createElement('div');\n",
              "          docLink.innerHTML = docLinkHtml;\n",
              "          element.appendChild(docLink);\n",
              "        }\n",
              "      </script>\n",
              "    </div>\n",
              "  </div>\n",
              "  "
            ]
          },
          "metadata": {},
          "execution_count": 16
        }
      ],
      "source": [
        "model_ev = pd.DataFrame({'Model': ['Logistic Regression','Naive Bayes','Random Forest','Extreme Gradient Boost',\n",
        "                    'K-Nearest Neighbour','Decision Tree','Support Vector Machine'], 'Accuracy': [lr_acc_score*100,\n",
        "                    nb_acc_score*100,rf_acc_score*100,xgb_acc_score*100,knn_acc_score*100,dt_acc_score*100,svc_acc_score*100]})\n",
        "model_ev"
      ]
    },
    {
      "cell_type": "code",
      "execution_count": 17,
      "metadata": {
        "execution": {
          "iopub.execute_input": "2020-12-11T03:32:24.504377Z",
          "iopub.status.busy": "2020-12-11T03:32:24.503555Z",
          "iopub.status.idle": "2020-12-11T03:32:24.713542Z",
          "shell.execute_reply": "2020-12-11T03:32:24.712783Z"
        },
        "papermill": {
          "duration": 0.381694,
          "end_time": "2020-12-11T03:32:24.713704",
          "exception": false,
          "start_time": "2020-12-11T03:32:24.332010",
          "status": "completed"
        },
        "tags": [],
        "id": "myS7EVdzhCBQ",
        "outputId": "b7219f85-272e-400e-94db-53d6bd74be9f",
        "colab": {
          "base_uri": "https://localhost:8080/",
          "height": 0
        }
      },
      "outputs": [
        {
          "output_type": "display_data",
          "data": {
            "text/plain": [
              "<Figure size 864x360 with 1 Axes>"
            ],
            "image/png": "[encoded data removed]"
          },
          "metadata": {}
        }
      ],
      "source": [
        "colors = ['red','green','blue','gold','silver','yellow','orange',]\n",
        "plt.figure(figsize=(12,5))\n",
        "plt.title(\"barplot Represent Accuracy of different models\")\n",
        "plt.xlabel(\"Accuracy %\")\n",
        "plt.ylabel(\"Algorithms\")\n",
        "plt.bar(model_ev['Model'],model_ev['Accuracy'],color = colors)\n",
        "plt.show()"
      ]
    },
    {
      "cell_type": "markdown",
      "source": [
        "# **Trying to train with undersampling**\n",
        "\n",
        "1) The dataset is unbalanced, so the accuracies can be misleading.\n",
        "\n",
        "2) Thus we try to train all the algorithms again with undersampling.\n",
        "\n",
        "3) Undersampling removes random entries so that the dataset becomes balanced.\n",
        "\n",
        "\n"
      ],
      "metadata": {
        "id": "biLiNXveEFUW"
      }
    },
    {
      "cell_type": "code",
      "source": [
        "y = data[\"TenYearCHD\"]\n",
        "k=y\n",
        "X = data.drop('TenYearCHD',axis=1)\n",
        "from imblearn.under_sampling import RandomUnderSampler\n",
        "\n",
        "rus = RandomUnderSampler(random_state=42, replacement=True)\n",
        "X, y = rus.fit_resample(X, y)\n",
        "\n",
        "print('original dataset shape:', Counter(k))\n",
        "print('Resample dataset shape', Counter(y))\n",
        "X_train, X_test, y_train, y_test = train_test_split(X, y, test_size=0.20, random_state = 0)\n",
        "scaler = StandardScaler()\n",
        "X_train = scaler.fit_transform(X_train)\n",
        "X_test = scaler.transform(X_test)\n"
      ],
      "metadata": {
        "colab": {
          "base_uri": "https://localhost:8080/"
        },
        "id": "1ENx1J8iEnw9",
        "outputId": "7cb1071a-af62-4046-b70c-019035a5508e"
      },
      "execution_count": 18,
      "outputs": [
        {
          "output_type": "stream",
          "name": "stdout",
          "text": [
            "original dataset shape: Counter({0: 3099, 1: 557})\n",
            "Resample dataset shape Counter({0: 557, 1: 557})\n"
          ]
        }
      ]
    },
    {
      "cell_type": "markdown",
      "metadata": {
        "papermill": {
          "duration": 0.149107,
          "end_time": "2020-12-11T03:32:19.563256",
          "exception": false,
          "start_time": "2020-12-11T03:32:19.414149",
          "status": "completed"
        },
        "tags": [],
        "id": "YRNKe7xaE9xH"
      },
      "source": [
        "## **ML models**\n",
        "\n",
        "Here I take different machine learning algorithm and try to find algorithm which predict accurately.\n",
        "\n",
        "1. Logistic Regression\n",
        "2. Naive Bayes\n",
        "3. Random Forest Classifier\n",
        "4. Extreme Gradient Boost\n",
        "5. K-Nearest Neighbour\n",
        "6. Decision Tree\n",
        "7. Support Vector Machine\n"
      ]
    },
    {
      "cell_type": "code",
      "execution_count": 19,
      "metadata": {
        "execution": {
          "iopub.execute_input": "2020-12-11T03:32:19.886758Z",
          "iopub.status.busy": "2020-12-11T03:32:19.884888Z",
          "iopub.status.idle": "2020-12-11T03:32:19.901527Z",
          "shell.execute_reply": "2020-12-11T03:32:19.902246Z"
        },
        "papermill": {
          "duration": 0.188422,
          "end_time": "2020-12-11T03:32:19.902449",
          "exception": false,
          "start_time": "2020-12-11T03:32:19.714027",
          "status": "completed"
        },
        "tags": [],
        "outputId": "12977312-ca96-4ca4-eaf4-ebd20d41f299",
        "colab": {
          "base_uri": "https://localhost:8080/"
        },
        "id": "OoivsWQoE9xI"
      },
      "outputs": [
        {
          "output_type": "stream",
          "name": "stdout",
          "text": [
            "confussion matrix\n",
            "[[75 30]\n",
            " [44 74]]\n",
            "\n",
            "\n",
            "Accuracy of Logistic Regression: 66.81614349775785 \n",
            "\n",
            "              precision    recall  f1-score   support\n",
            "\n",
            "           0       0.63      0.71      0.67       105\n",
            "           1       0.71      0.63      0.67       118\n",
            "\n",
            "    accuracy                           0.67       223\n",
            "   macro avg       0.67      0.67      0.67       223\n",
            "weighted avg       0.67      0.67      0.67       223\n",
            "\n"
          ]
        }
      ],
      "source": [
        "m1 = 'Logistic Regression'\n",
        "lr = LogisticRegression()\n",
        "model = lr.fit(X_train, y_train)\n",
        "lr_predict = lr.predict(X_test)\n",
        "lr_conf_matrix = confusion_matrix(y_test, lr_predict)\n",
        "lr_acc_score = accuracy_score(y_test, lr_predict)\n",
        "print(\"confussion matrix\")\n",
        "print(lr_conf_matrix)\n",
        "print(\"\\n\")\n",
        "print(\"Accuracy of Logistic Regression:\",lr_acc_score*100,'\\n')\n",
        "print(classification_report(y_test,lr_predict))"
      ]
    },
    {
      "cell_type": "code",
      "execution_count": 20,
      "metadata": {
        "execution": {
          "iopub.execute_input": "2020-12-11T03:32:20.215287Z",
          "iopub.status.busy": "2020-12-11T03:32:20.214390Z",
          "iopub.status.idle": "2020-12-11T03:32:20.232660Z",
          "shell.execute_reply": "2020-12-11T03:32:20.231564Z"
        },
        "papermill": {
          "duration": 0.178774,
          "end_time": "2020-12-11T03:32:20.232830",
          "exception": false,
          "start_time": "2020-12-11T03:32:20.054056",
          "status": "completed"
        },
        "tags": [],
        "outputId": "8891eea8-48dd-4f57-ea2f-3e067175eb3e",
        "colab": {
          "base_uri": "https://localhost:8080/"
        },
        "id": "CuWLnp9OE9xJ"
      },
      "outputs": [
        {
          "output_type": "stream",
          "name": "stdout",
          "text": [
            "confussion matrix\n",
            "[[95 10]\n",
            " [86 32]]\n",
            "\n",
            "\n",
            "Accuracy of Naive Bayes model: 56.95067264573991 \n",
            "\n",
            "              precision    recall  f1-score   support\n",
            "\n",
            "           0       0.52      0.90      0.66       105\n",
            "           1       0.76      0.27      0.40       118\n",
            "\n",
            "    accuracy                           0.57       223\n",
            "   macro avg       0.64      0.59      0.53       223\n",
            "weighted avg       0.65      0.57      0.52       223\n",
            "\n"
          ]
        }
      ],
      "source": [
        "\n",
        "m2 = 'Naive Bayes'\n",
        "nb = GaussianNB()\n",
        "nb.fit(X_train,y_train)\n",
        "nbpred = nb.predict(X_test)\n",
        "nb_conf_matrix = confusion_matrix(y_test, nbpred)\n",
        "nb_acc_score = accuracy_score(y_test, nbpred)\n",
        "print(\"confussion matrix\")\n",
        "print(nb_conf_matrix)\n",
        "print(\"\\n\")\n",
        "print(\"Accuracy of Naive Bayes model:\",nb_acc_score*100,'\\n')\n",
        "print(classification_report(y_test,nbpred))"
      ]
    },
    {
      "cell_type": "code",
      "execution_count": 21,
      "metadata": {
        "execution": {
          "iopub.execute_input": "2020-12-11T03:32:20.554045Z",
          "iopub.status.busy": "2020-12-11T03:32:20.543678Z",
          "iopub.status.idle": "2020-12-11T03:32:20.612957Z",
          "shell.execute_reply": "2020-12-11T03:32:20.613663Z"
        },
        "papermill": {
          "duration": 0.229014,
          "end_time": "2020-12-11T03:32:20.613853",
          "exception": false,
          "start_time": "2020-12-11T03:32:20.384839",
          "status": "completed"
        },
        "tags": [],
        "outputId": "c59ea246-0508-4c7b-ed90-2eab7e1d3572",
        "colab": {
          "base_uri": "https://localhost:8080/"
        },
        "id": "riefUoWWE9xJ"
      },
      "outputs": [
        {
          "output_type": "stream",
          "name": "stdout",
          "text": [
            "confussion matrix\n",
            "[[80 25]\n",
            " [46 72]]\n",
            "\n",
            "\n",
            "Accuracy of Random Forest: 68.16143497757847 \n",
            "\n",
            "              precision    recall  f1-score   support\n",
            "\n",
            "           0       0.63      0.76      0.69       105\n",
            "           1       0.74      0.61      0.67       118\n",
            "\n",
            "    accuracy                           0.68       223\n",
            "   macro avg       0.69      0.69      0.68       223\n",
            "weighted avg       0.69      0.68      0.68       223\n",
            "\n"
          ]
        }
      ],
      "source": [
        "m3 = 'Random Forest Classfier'\n",
        "rf = RandomForestClassifier(n_estimators=20, random_state=2,max_depth=5)\n",
        "rf.fit(X_train,y_train)\n",
        "rf_predicted = rf.predict(X_test)\n",
        "rf_conf_matrix = confusion_matrix(y_test, rf_predicted)\n",
        "rf_acc_score = accuracy_score(y_test, rf_predicted)\n",
        "print(\"confussion matrix\")\n",
        "print(rf_conf_matrix)\n",
        "print(\"\\n\")\n",
        "print(\"Accuracy of Random Forest:\",rf_acc_score*100,'\\n')\n",
        "print(classification_report(y_test,rf_predicted))"
      ]
    },
    {
      "cell_type": "code",
      "execution_count": 22,
      "metadata": {
        "execution": {
          "iopub.execute_input": "2020-12-11T03:32:20.929923Z",
          "iopub.status.busy": "2020-12-11T03:32:20.928909Z",
          "iopub.status.idle": "2020-12-11T03:32:20.987200Z",
          "shell.execute_reply": "2020-12-11T03:32:20.988106Z"
        },
        "papermill": {
          "duration": 0.222079,
          "end_time": "2020-12-11T03:32:20.988352",
          "exception": false,
          "start_time": "2020-12-11T03:32:20.766273",
          "status": "completed"
        },
        "tags": [],
        "outputId": "a800ba92-a194-463e-b1cd-430b5c224c32",
        "colab": {
          "base_uri": "https://localhost:8080/"
        },
        "id": "qvvHtPWOE9xK"
      },
      "outputs": [
        {
          "output_type": "stream",
          "name": "stdout",
          "text": [
            "confussion matrix\n",
            "[[77 28]\n",
            " [52 66]]\n",
            "\n",
            "\n",
            "Accuracy of Extreme Gradient Boost: 64.12556053811659 \n",
            "\n",
            "              precision    recall  f1-score   support\n",
            "\n",
            "           0       0.60      0.73      0.66       105\n",
            "           1       0.70      0.56      0.62       118\n",
            "\n",
            "    accuracy                           0.64       223\n",
            "   macro avg       0.65      0.65      0.64       223\n",
            "weighted avg       0.65      0.64      0.64       223\n",
            "\n"
          ]
        }
      ],
      "source": [
        "m4 = 'Extreme Gradient Boost'\n",
        "xgb = XGBClassifier(learning_rate=0.01, n_estimators=25, max_depth=15,gamma=0.6, subsample=0.52,colsample_bytree=0.6,seed=27, \n",
        "                    reg_lambda=2, booster='dart', colsample_bylevel=0.6, colsample_bynode=0.5)\n",
        "xgb.fit(X_train, y_train)\n",
        "xgb_predicted = xgb.predict(X_test)\n",
        "xgb_conf_matrix = confusion_matrix(y_test, xgb_predicted)\n",
        "xgb_acc_score = accuracy_score(y_test, xgb_predicted)\n",
        "print(\"confussion matrix\")\n",
        "print(xgb_conf_matrix)\n",
        "print(\"\\n\")\n",
        "print(\"Accuracy of Extreme Gradient Boost:\",xgb_acc_score*100,'\\n')\n",
        "print(classification_report(y_test,xgb_predicted))"
      ]
    },
    {
      "cell_type": "code",
      "execution_count": 23,
      "metadata": {
        "execution": {
          "iopub.execute_input": "2020-12-11T03:32:21.358733Z",
          "iopub.status.busy": "2020-12-11T03:32:21.357902Z",
          "iopub.status.idle": "2020-12-11T03:32:21.376638Z",
          "shell.execute_reply": "2020-12-11T03:32:21.375769Z"
        },
        "papermill": {
          "duration": 0.188796,
          "end_time": "2020-12-11T03:32:21.376787",
          "exception": false,
          "start_time": "2020-12-11T03:32:21.187991",
          "status": "completed"
        },
        "tags": [],
        "outputId": "c30937da-b39d-41ae-d678-9ccc401ab841",
        "colab": {
          "base_uri": "https://localhost:8080/"
        },
        "id": "iZ1y_wooE9xK"
      },
      "outputs": [
        {
          "output_type": "stream",
          "name": "stdout",
          "text": [
            "confussion matrix\n",
            "[[78 27]\n",
            " [61 57]]\n",
            "\n",
            "\n",
            "Accuracy of K-NeighborsClassifier: 60.53811659192825 \n",
            "\n",
            "              precision    recall  f1-score   support\n",
            "\n",
            "           0       0.56      0.74      0.64       105\n",
            "           1       0.68      0.48      0.56       118\n",
            "\n",
            "    accuracy                           0.61       223\n",
            "   macro avg       0.62      0.61      0.60       223\n",
            "weighted avg       0.62      0.61      0.60       223\n",
            "\n"
          ]
        }
      ],
      "source": [
        "m5 = 'K-NeighborsClassifier'\n",
        "knn = KNeighborsClassifier(n_neighbors=10)\n",
        "knn.fit(X_train, y_train)\n",
        "knn_predicted = knn.predict(X_test)\n",
        "knn_conf_matrix = confusion_matrix(y_test, knn_predicted)\n",
        "knn_acc_score = accuracy_score(y_test, knn_predicted)\n",
        "print(\"confussion matrix\")\n",
        "print(knn_conf_matrix)\n",
        "print(\"\\n\")\n",
        "print(\"Accuracy of K-NeighborsClassifier:\",knn_acc_score*100,'\\n')\n",
        "print(classification_report(y_test,knn_predicted))"
      ]
    },
    {
      "cell_type": "code",
      "execution_count": 24,
      "metadata": {
        "execution": {
          "iopub.execute_input": "2020-12-11T03:32:21.697828Z",
          "iopub.status.busy": "2020-12-11T03:32:21.696975Z",
          "iopub.status.idle": "2020-12-11T03:32:21.714684Z",
          "shell.execute_reply": "2020-12-11T03:32:21.715348Z"
        },
        "papermill": {
          "duration": 0.183294,
          "end_time": "2020-12-11T03:32:21.715510",
          "exception": false,
          "start_time": "2020-12-11T03:32:21.532216",
          "status": "completed"
        },
        "tags": [],
        "outputId": "b223f53a-a18f-49f5-92cb-bcf9a177f2ce",
        "colab": {
          "base_uri": "https://localhost:8080/"
        },
        "id": "wYj6PCWyE9xK"
      },
      "outputs": [
        {
          "output_type": "stream",
          "name": "stdout",
          "text": [
            "confussion matrix\n",
            "[[71 34]\n",
            " [40 78]]\n",
            "\n",
            "\n",
            "Accuracy of DecisionTreeClassifier: 66.81614349775785 \n",
            "\n",
            "              precision    recall  f1-score   support\n",
            "\n",
            "           0       0.64      0.68      0.66       105\n",
            "           1       0.70      0.66      0.68       118\n",
            "\n",
            "    accuracy                           0.67       223\n",
            "   macro avg       0.67      0.67      0.67       223\n",
            "weighted avg       0.67      0.67      0.67       223\n",
            "\n"
          ]
        }
      ],
      "source": [
        "m6 = 'DecisionTreeClassifier'\n",
        "dt = DecisionTreeClassifier(criterion = 'entropy',random_state=0,max_depth = 6)\n",
        "dt.fit(X_train, y_train)\n",
        "dt_predicted = dt.predict(X_test)\n",
        "dt_conf_matrix = confusion_matrix(y_test, dt_predicted)\n",
        "dt_acc_score = accuracy_score(y_test, dt_predicted)\n",
        "print(\"confussion matrix\")\n",
        "print(dt_conf_matrix)\n",
        "print(\"\\n\")\n",
        "print(\"Accuracy of DecisionTreeClassifier:\",dt_acc_score*100,'\\n')\n",
        "print(classification_report(y_test,dt_predicted))"
      ]
    },
    {
      "cell_type": "code",
      "execution_count": 25,
      "metadata": {
        "execution": {
          "iopub.execute_input": "2020-12-11T03:32:22.042344Z",
          "iopub.status.busy": "2020-12-11T03:32:22.041504Z",
          "iopub.status.idle": "2020-12-11T03:32:22.061353Z",
          "shell.execute_reply": "2020-12-11T03:32:22.060636Z"
        },
        "papermill": {
          "duration": 0.189213,
          "end_time": "2020-12-11T03:32:22.061515",
          "exception": false,
          "start_time": "2020-12-11T03:32:21.872302",
          "status": "completed"
        },
        "tags": [],
        "outputId": "3b403b86-b989-4be3-a5a0-771d93a5edf7",
        "colab": {
          "base_uri": "https://localhost:8080/"
        },
        "id": "O57ZdOVZE9xK"
      },
      "outputs": [
        {
          "output_type": "stream",
          "name": "stdout",
          "text": [
            "confussion matrix\n",
            "[[74 31]\n",
            " [50 68]]\n",
            "\n",
            "\n",
            "Accuracy of Support Vector Classifier: 63.67713004484305 \n",
            "\n",
            "              precision    recall  f1-score   support\n",
            "\n",
            "           0       0.60      0.70      0.65       105\n",
            "           1       0.69      0.58      0.63       118\n",
            "\n",
            "    accuracy                           0.64       223\n",
            "   macro avg       0.64      0.64      0.64       223\n",
            "weighted avg       0.64      0.64      0.64       223\n",
            "\n"
          ]
        }
      ],
      "source": [
        "m7 = 'Support Vector Classifier'\n",
        "svc =  SVC(kernel='rbf', C=2)\n",
        "svc.fit(X_train, y_train)\n",
        "svc_predicted = svc.predict(X_test)\n",
        "svc_conf_matrix = confusion_matrix(y_test, svc_predicted)\n",
        "svc_acc_score = accuracy_score(y_test, svc_predicted)\n",
        "print(\"confussion matrix\")\n",
        "print(svc_conf_matrix)\n",
        "print(\"\\n\")\n",
        "print(\"Accuracy of Support Vector Classifier:\",svc_acc_score*100,'\\n')\n",
        "print(classification_report(y_test,svc_predicted))"
      ]
    },
    {
      "cell_type": "code",
      "execution_count": 26,
      "metadata": {
        "execution": {
          "iopub.execute_input": "2020-12-11T03:32:23.114510Z",
          "iopub.status.busy": "2020-12-11T03:32:23.111204Z",
          "iopub.status.idle": "2020-12-11T03:32:23.509234Z",
          "shell.execute_reply": "2020-12-11T03:32:23.508593Z"
        },
        "papermill": {
          "duration": 0.581622,
          "end_time": "2020-12-11T03:32:23.509357",
          "exception": false,
          "start_time": "2020-12-11T03:32:22.927735",
          "status": "completed"
        },
        "tags": [],
        "outputId": "be073c8f-c500-43dc-d4f2-43e0a6672109",
        "colab": {
          "base_uri": "https://localhost:8080/",
          "height": 0
        },
        "id": "OWgDuxPIE9xL"
      },
      "outputs": [
        {
          "output_type": "display_data",
          "data": {
            "text/plain": [
              "<Figure size 720x360 with 1 Axes>"
            ],
            "image/png": "[encoded data removed]"
          },
          "metadata": {}
        }
      ],
      "source": [
        "lr_false_positive_rate,lr_true_positive_rate,lr_threshold = roc_curve(y_test,lr_predict)\n",
        "nb_false_positive_rate,nb_true_positive_rate,nb_threshold = roc_curve(y_test,nbpred)\n",
        "rf_false_positive_rate,rf_true_positive_rate,rf_threshold = roc_curve(y_test,rf_predicted)                                                             \n",
        "xgb_false_positive_rate,xgb_true_positive_rate,xgb_threshold = roc_curve(y_test,xgb_predicted)\n",
        "knn_false_positive_rate,knn_true_positive_rate,knn_threshold = roc_curve(y_test,knn_predicted)\n",
        "dt_false_positive_rate,dt_true_positive_rate,dt_threshold = roc_curve(y_test,dt_predicted)\n",
        "svc_false_positive_rate,svc_true_positive_rate,svc_threshold = roc_curve(y_test,svc_predicted)\n",
        "\n",
        "\n",
        "sns.set_style('whitegrid')\n",
        "plt.figure(figsize=(10,5))\n",
        "plt.title('Reciver Operating Characterstic Curve')\n",
        "plt.plot(lr_false_positive_rate,lr_true_positive_rate,label='Logistic Regression')\n",
        "plt.plot(nb_false_positive_rate,nb_true_positive_rate,label='Naive Bayes')\n",
        "plt.plot(rf_false_positive_rate,rf_true_positive_rate,label='Random Forest')\n",
        "plt.plot(xgb_false_positive_rate,xgb_true_positive_rate,label='Extreme Gradient Boost')\n",
        "plt.plot(knn_false_positive_rate,knn_true_positive_rate,label='K-Nearest Neighbor')\n",
        "plt.plot(dt_false_positive_rate,dt_true_positive_rate,label='Desion Tree')\n",
        "plt.plot(svc_false_positive_rate,svc_true_positive_rate,label='Support Vector Classifier')\n",
        "plt.plot([0,1],ls='--')\n",
        "plt.plot([0,0],[1,0],c='.5')\n",
        "plt.plot([1,1],c='.5')\n",
        "plt.ylabel('True positive rate')\n",
        "plt.xlabel('False positive rate')\n",
        "plt.legend()\n",
        "plt.show()"
      ]
    },
    {
      "cell_type": "markdown",
      "metadata": {
        "papermill": {
          "duration": 0.159511,
          "end_time": "2020-12-11T03:32:23.833331",
          "exception": false,
          "start_time": "2020-12-11T03:32:23.673820",
          "status": "completed"
        },
        "tags": [],
        "id": "T_yQO5iSGIMK"
      },
      "source": [
        "# **Model Evaluation**"
      ]
    },
    {
      "cell_type": "code",
      "execution_count": 27,
      "metadata": {
        "execution": {
          "iopub.execute_input": "2020-12-11T03:32:24.165913Z",
          "iopub.status.busy": "2020-12-11T03:32:24.164684Z",
          "iopub.status.idle": "2020-12-11T03:32:24.168576Z",
          "shell.execute_reply": "2020-12-11T03:32:24.169191Z"
        },
        "papermill": {
          "duration": 0.18048,
          "end_time": "2020-12-11T03:32:24.169348",
          "exception": false,
          "start_time": "2020-12-11T03:32:23.988868",
          "status": "completed"
        },
        "tags": [],
        "outputId": "c1415266-f2f9-4406-fd49-7801bf1e2176",
        "colab": {
          "base_uri": "https://localhost:8080/",
          "height": 0
        },
        "id": "r-oHQAmOGIMK"
      },
      "outputs": [
        {
          "output_type": "execute_result",
          "data": {
            "text/plain": [
              "                    Model   Accuracy\n",
              "0     Logistic Regression  66.816143\n",
              "1             Naive Bayes  56.950673\n",
              "2           Random Forest  68.161435\n",
              "3  Extreme Gradient Boost  64.125561\n",
              "4     K-Nearest Neighbour  60.538117\n",
              "5           Decision Tree  66.816143\n",
              "6  Support Vector Machine  63.677130"
            ],
            "text/html": [
              "\n",
              "  <div id=\"df-f326e543-988d-4cf7-a167-7a8d10301543\">\n",
              "    <div class=\"colab-df-container\">\n",
              "      <div>\n",
              "<style scoped>\n",
              "    .dataframe tbody tr th:only-of-type {\n",
              "        vertical-align: middle;\n",
              "    }\n",
              "\n",
              "    .dataframe tbody tr th {\n",
              "        vertical-align: top;\n",
              "    }\n",
              "\n",
              "    .dataframe thead th {\n",
              "        text-align: right;\n",
              "    }\n",
              "</style>\n",
              "<table border=\"1\" class=\"dataframe\">\n",
              "  <thead>\n",
              "    <tr style=\"text-align: right;\">\n",
              "      <th></th>\n",
              "      <th>Model</th>\n",
              "      <th>Accuracy</th>\n",
              "    </tr>\n",
              "  </thead>\n",
              "  <tbody>\n",
              "    <tr>\n",
              "      <th>0</th>\n",
              "      <td>Logistic Regression</td>\n",
              "      <td>66.816143</td>\n",
              "    </tr>\n",
              "    <tr>\n",
              "      <th>1</th>\n",
              "      <td>Naive Bayes</td>\n",
              "      <td>56.950673</td>\n",
              "    </tr>\n",
              "    <tr>\n",
              "      <th>2</th>\n",
              "      <td>Random Forest</td>\n",
              "      <td>68.161435</td>\n",
              "    </tr>\n",
              "    <tr>\n",
              "      <th>3</th>\n",
              "      <td>Extreme Gradient Boost</td>\n",
              "      <td>64.125561</td>\n",
              "    </tr>\n",
              "    <tr>\n",
              "      <th>4</th>\n",
              "      <td>K-Nearest Neighbour</td>\n",
              "      <td>60.538117</td>\n",
              "    </tr>\n",
              "    <tr>\n",
              "      <th>5</th>\n",
              "      <td>Decision Tree</td>\n",
              "      <td>66.816143</td>\n",
              "    </tr>\n",
              "    <tr>\n",
              "      <th>6</th>\n",
              "      <td>Support Vector Machine</td>\n",
              "      <td>63.677130</td>\n",
              "    </tr>\n",
              "  </tbody>\n",
              "</table>\n",
              "</div>\n",
              "      <button class=\"colab-df-convert\" onclick=\"convertToInteractive('df-f326e543-988d-4cf7-a167-7a8d10301543')\"\n",
              "              title=\"Convert this dataframe to an interactive table.\"\n",
              "              style=\"display:none;\">\n",
              "        \n",
              "  <svg xmlns=\"http://www.w3.org/2000/svg\" height=\"24px\"viewBox=\"0 0 24 24\"\n",
              "       width=\"24px\">\n",
              "    <path d=\"M0 0h24v24H0V0z\" fill=\"none\"/>\n",
              "    <path d=\"M18.56 5.44l.94 2.06.94-2.06 2.06-.94-2.06-.94-.94-2.06-.94 2.06-2.06.94zm-11 1L8.5 8.5l.94-2.06 2.06-.94-2.06-.94L8.5 2.5l-.94 2.06-2.06.94zm10 10l.94 2.06.94-2.06 2.06-.94-2.06-.94-.94-2.06-.94 2.06-2.06.94z\"/><path d=\"M17.41 7.96l-1.37-1.37c-.4-.4-.92-.59-1.43-.59-.52 0-1.04.2-1.43.59L10.3 9.45l-7.72 7.72c-.78.78-.78 2.05 0 2.83L4 21.41c.39.39.9.59 1.41.59.51 0 1.02-.2 1.41-.59l7.78-7.78 2.81-2.81c.8-.78.8-2.07 0-2.86zM5.41 20L4 18.59l7.72-7.72 1.47 1.35L5.41 20z\"/>\n",
              "  </svg>\n",
              "      </button>\n",
              "      \n",
              "  <style>\n",
              "    .colab-df-container {\n",
              "      display:flex;\n",
              "      flex-wrap:wrap;\n",
              "      gap: 12px;\n",
              "    }\n",
              "\n",
              "    .colab-df-convert {\n",
              "      background-color: #E8F0FE;\n",
              "      border: none;\n",
              "      border-radius: 50%;\n",
              "      cursor: pointer;\n",
              "      display: none;\n",
              "      fill: #1967D2;\n",
              "      height: 32px;\n",
              "      padding: 0 0 0 0;\n",
              "      width: 32px;\n",
              "    }\n",
              "\n",
              "    .colab-df-convert:hover {\n",
              "      background-color: #E2EBFA;\n",
              "      box-shadow: 0px 1px 2px rgba(60, 64, 67, 0.3), 0px 1px 3px 1px rgba(60, 64, 67, 0.15);\n",
              "      fill: #174EA6;\n",
              "    }\n",
              "\n",
              "    [theme=dark] .colab-df-convert {\n",
              "      background-color: #3B4455;\n",
              "      fill: #D2E3FC;\n",
              "    }\n",
              "\n",
              "    [theme=dark] .colab-df-convert:hover {\n",
              "      background-color: #434B5C;\n",
              "      box-shadow: 0px 1px 3px 1px rgba(0, 0, 0, 0.15);\n",
              "      filter: drop-shadow(0px 1px 2px rgba(0, 0, 0, 0.3));\n",
              "      fill: #FFFFFF;\n",
              "    }\n",
              "  </style>\n",
              "\n",
              "      <script>\n",
              "        const buttonEl =\n",
              "          document.querySelector('#df-f326e543-988d-4cf7-a167-7a8d10301543 button.colab-df-convert');\n",
              "        buttonEl.style.display =\n",
              "          google.colab.kernel.accessAllowed ? 'block' : 'none';\n",
              "\n",
              "        async function convertToInteractive(key) {\n",
              "          const element = document.querySelector('#df-f326e543-988d-4cf7-a167-7a8d10301543');\n",
              "          const dataTable =\n",
              "            await google.colab.kernel.invokeFunction('convertToInteractive',\n",
              "                                                     [key], {});\n",
              "          if (!dataTable) return;\n",
              "\n",
              "          const docLinkHtml = 'Like what you see? Visit the ' +\n",
              "            '<a target=\"_blank\" href=https://colab.research.google.com/notebooks/data_table.ipynb>data table notebook</a>'\n",
              "            + ' to learn more about interactive tables.';\n",
              "          element.innerHTML = '';\n",
              "          dataTable['output_type'] = 'display_data';\n",
              "          await google.colab.output.renderOutput(dataTable, element);\n",
              "          const docLink = document.createElement('div');\n",
              "          docLink.innerHTML = docLinkHtml;\n",
              "          element.appendChild(docLink);\n",
              "        }\n",
              "      </script>\n",
              "    </div>\n",
              "  </div>\n",
              "  "
            ]
          },
          "metadata": {},
          "execution_count": 27
        }
      ],
      "source": [
        "model_ev = pd.DataFrame({'Model': ['Logistic Regression','Naive Bayes','Random Forest','Extreme Gradient Boost',\n",
        "                    'K-Nearest Neighbour','Decision Tree','Support Vector Machine'], 'Accuracy': [lr_acc_score*100,\n",
        "                    nb_acc_score*100,rf_acc_score*100,xgb_acc_score*100,knn_acc_score*100,dt_acc_score*100,svc_acc_score*100]})\n",
        "model_ev"
      ]
    },
    {
      "cell_type": "code",
      "execution_count": 28,
      "metadata": {
        "execution": {
          "iopub.execute_input": "2020-12-11T03:32:24.504377Z",
          "iopub.status.busy": "2020-12-11T03:32:24.503555Z",
          "iopub.status.idle": "2020-12-11T03:32:24.713542Z",
          "shell.execute_reply": "2020-12-11T03:32:24.712783Z"
        },
        "papermill": {
          "duration": 0.381694,
          "end_time": "2020-12-11T03:32:24.713704",
          "exception": false,
          "start_time": "2020-12-11T03:32:24.332010",
          "status": "completed"
        },
        "tags": [],
        "outputId": "19df561d-7f35-477f-e34c-c252c28450af",
        "colab": {
          "base_uri": "https://localhost:8080/",
          "height": 0
        },
        "id": "95juKd8zGIML"
      },
      "outputs": [
        {
          "output_type": "display_data",
          "data": {
            "text/plain": [
              "<Figure size 864x360 with 1 Axes>"
            ],
            "image/png": "[encoded data removed]"
          },
          "metadata": {}
        }
      ],
      "source": [
        "colors = ['red','green','blue','gold','silver','yellow','orange',]\n",
        "plt.figure(figsize=(12,5))\n",
        "plt.title(\"barplot Represent Accuracy of different models\")\n",
        "plt.xlabel(\"Accuracy %\")\n",
        "plt.ylabel(\"Algorithms\")\n",
        "plt.bar(model_ev['Model'],model_ev['Accuracy'],color = colors)\n",
        "plt.show()"
      ]
    },
    {
      "cell_type": "markdown",
      "metadata": {
        "papermill": {
          "duration": 0.159973,
          "end_time": "2020-12-11T03:32:25.835334",
          "exception": false,
          "start_time": "2020-12-11T03:32:25.675361",
          "status": "completed"
        },
        "tags": [],
        "id": "iYN9JQ9whCBQ"
      },
      "source": [
        "# **Conclusion**\n",
        "\n",
        "1) In the unbalanced dataset, the highest accuracy was achieved by Logistic Regression.\n",
        "\n",
        "2) The accuracy was misleading tho since the data was extremely unbalanced and randomly guessing 0 for every datapoint would've given an accuracy of 82+%\n",
        "\n",
        "3) We then tried under-sampling and got an accuracy of 68% with the random-forest model.\n",
        "\n",
        "4) This is way more realistic."
      ]
    }
  ],
  "metadata": {
    "kernelspec": {
      "display_name": "Python 3",
      "language": "python",
      "name": "python3"
    },
    "language_info": {
      "codemirror_mode": {
        "name": "ipython",
        "version": 3
      },
      "file_extension": ".py",
      "mimetype": "text/x-python",
      "name": "python",
      "nbconvert_exporter": "python",
      "pygments_lexer": "ipython3",
      "version": "3.7.6"
    },
    "papermill": {
      "duration": 41.224233,
      "end_time": "2020-12-11T03:32:27.037873",
      "environment_variables": {},
      "exception": null,
      "input_path": "__notebook__.ipynb",
      "output_path": "__notebook__.ipynb",
      "parameters": {},
      "start_time": "2020-12-11T03:31:45.813640",
      "version": "2.1.0"
    },
    "colab": {
      "provenance": []
    }
  },
  "nbformat": 4,
  "nbformat_minor": 0
}